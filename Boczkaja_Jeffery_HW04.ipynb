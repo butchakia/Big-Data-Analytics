{
 "cells": [
  {
   "cell_type": "markdown",
   "metadata": {
    "application/vnd.databricks.v1+cell": {
     "cellMetadata": {
      "byteLimit": 2048000,
      "rowLimit": 10000
     },
     "inputWidgets": {},
     "nuid": "18768d74-21fc-49b0-8617-83b02c359658",
     "showTitle": false,
     "title": ""
    }
   },
   "source": [
    "# DSCI 617 - Homework 4\n",
    "**Jeffery Boczkaja**"
   ]
  },
  {
   "cell_type": "code",
   "execution_count": 0,
   "metadata": {
    "application/vnd.databricks.v1+cell": {
     "cellMetadata": {
      "byteLimit": 2048000,
      "rowLimit": 10000
     },
     "inputWidgets": {},
     "nuid": "305b8d3a-dd1c-4487-a9bd-c461fb1c39a0",
     "showTitle": false,
     "title": ""
    }
   },
   "outputs": [],
   "source": [
    "from pyspark.sql import SparkSession\n",
    "from pyspark.sql.functions import col, expr\n",
    "spark = SparkSession.builder.getOrCreate()\n",
    "sc = spark.sparkContext"
   ]
  },
  {
   "cell_type": "markdown",
   "metadata": {
    "application/vnd.databricks.v1+cell": {
     "cellMetadata": {
      "byteLimit": 2048000,
      "rowLimit": 10000
     },
     "inputWidgets": {},
     "nuid": "2eed44ff-8011-499b-bee2-770f8b2c3807",
     "showTitle": false,
     "title": ""
    }
   },
   "source": [
    "## Load Diamond Data"
   ]
  },
  {
   "cell_type": "code",
   "execution_count": 0,
   "metadata": {
    "application/vnd.databricks.v1+cell": {
     "cellMetadata": {
      "byteLimit": 2048000,
      "rowLimit": 10000
     },
     "inputWidgets": {},
     "nuid": "e147ab4a-dc92-45b5-81b0-873473aac0c3",
     "showTitle": false,
     "title": ""
    }
   },
   "outputs": [
    {
     "output_type": "stream",
     "name": "stdout",
     "output_type": "stream",
     "text": [
      "root\n |-- carat: double (nullable = true)\n |-- cut: string (nullable = true)\n |-- color: string (nullable = true)\n |-- clarity: string (nullable = true)\n |-- depth: double (nullable = true)\n |-- table: double (nullable = true)\n |-- price: integer (nullable = true)\n |-- x: double (nullable = true)\n |-- y: double (nullable = true)\n |-- z: double (nullable = true)\n\n"
     ]
    }
   ],
   "source": [
    "diamonds_schema = \"\"\"\n",
    "    carat DOUBLE,\n",
    "    cut STRING,\n",
    "    color STRING,\n",
    "    clarity STRING,\n",
    "    depth DOUBLE,\n",
    "    table DOUBLE,\n",
    "    price INT,\n",
    "    x DOUBLE,\n",
    "    y DOUBLE,\n",
    "    z DOUBLE\n",
    "\"\"\"\n",
    "diamonds = spark.read.option(\"delimiter\", \"\\t\").option(\"header\", \"true\").schema(diamonds_schema).csv(\"/FileStore/tables/diamonds.txt\")\n",
    "diamonds.printSchema()"
   ]
  },
  {
   "cell_type": "markdown",
   "metadata": {
    "application/vnd.databricks.v1+cell": {
     "cellMetadata": {
      "byteLimit": 2048000,
      "rowLimit": 10000
     },
     "inputWidgets": {},
     "nuid": "266b3aad-4695-48f4-9fb7-f1e0c4718574",
     "showTitle": false,
     "title": ""
    }
   },
   "source": [
    "## Problem 1: Grouping By Cut"
   ]
  },
  {
   "cell_type": "code",
   "execution_count": 0,
   "metadata": {
    "application/vnd.databricks.v1+cell": {
     "cellMetadata": {
      "byteLimit": 2048000,
      "rowLimit": 10000
     },
     "inputWidgets": {},
     "nuid": "69c565d8-f55a-4834-9136-ea58663cd05c",
     "showTitle": false,
     "title": ""
    }
   },
   "outputs": [
    {
     "output_type": "stream",
     "name": "stdout",
     "output_type": "stream",
     "text": [
      "Out[3]: <function __main__.rank_cut(cut_level: str) -> int>"
     ]
    }
   ],
   "source": [
    "def rank_cut(cut_level: str) -> int:\n",
    "    cut_rankings = {\n",
    "        \"Fair\": 1,\n",
    "        \"Good\": 2,\n",
    "        \"Very Good\": 3,\n",
    "        \"Premium\": 4,\n",
    "        \"Ideal\": 5\n",
    "    }\n",
    "    return cut_rankings.get(cut_level, 0)\n",
    "\n",
    "test_cuts = [\"Fair\", \"Good\", \"Very Good\", \"Premium\", \"Ideal\"]\n",
    "test_results = [rank_cut(cut) for cut in test_cuts]\n",
    "spark.udf.register(\"rank_cut_udf\", rank_cut, \"int\")"
   ]
  },
  {
   "cell_type": "code",
   "execution_count": 0,
   "metadata": {
    "application/vnd.databricks.v1+cell": {
     "cellMetadata": {
      "byteLimit": 2048000,
      "rowLimit": 10000
     },
     "inputWidgets": {},
     "nuid": "15a0efdf-c597-4108-910a-e0b828d88142",
     "showTitle": false,
     "title": ""
    }
   },
   "outputs": [
    {
     "output_type": "stream",
     "name": "stdout",
     "output_type": "stream",
     "text": [
      "+---+----------+---------+---------+---------+---------+\n|cut|n_diamonds|avg_price|avg_carat|avg_depth|avg_table|\n+---+----------+---------+---------+---------+---------+\n|  1|      1610|   4359.0|     1.05|    64.04|    59.05|\n|  2|      4906|   3929.0|     0.85|    62.37|    58.69|\n|  3|     12082|   3982.0|     0.81|    61.82|    57.96|\n|  4|     13791|   4584.0|     0.89|    61.26|    58.75|\n|  5|     21551|   3458.0|      0.7|    61.71|    55.95|\n+---+----------+---------+---------+---------+---------+\n\n"
     ]
    }
   ],
   "source": [
    "result_df = (diamonds\n",
    "             .groupBy(\"cut\")\n",
    "             .agg(\n",
    "                 expr(\"COUNT(*) AS n_diamonds\"),\n",
    "                 expr(\"ROUND(AVG(price), 0) AS avg_price\"),\n",
    "                 expr(\"ROUND(AVG(carat), 2) AS avg_carat\"),\n",
    "                 expr(\"ROUND(AVG(depth), 2) AS avg_depth\"),\n",
    "                 expr(\"ROUND(AVG(table), 2) AS avg_table\")\n",
    "             )\n",
    "             .withColumn(\"cut\", expr(\"rank_cut_udf(cut)\"))\n",
    "             .orderBy(\"cut\")\n",
    "             .show())"
   ]
  },
  {
   "cell_type": "markdown",
   "metadata": {
    "application/vnd.databricks.v1+cell": {
     "cellMetadata": {
      "byteLimit": 2048000,
      "rowLimit": 10000
     },
     "inputWidgets": {},
     "nuid": "2e9ef0e4-79b7-4cbc-813e-efdb63000789",
     "showTitle": false,
     "title": ""
    }
   },
   "source": [
    "## Problem 2: Filtering based on Carat Size"
   ]
  },
  {
   "cell_type": "code",
   "execution_count": 0,
   "metadata": {
    "application/vnd.databricks.v1+cell": {
     "cellMetadata": {
      "byteLimit": 2048000,
      "rowLimit": 10000
     },
     "inputWidgets": {},
     "nuid": "19fe6ac6-23aa-40cf-9fae-062f298a9e26",
     "showTitle": false,
     "title": ""
    }
   },
   "outputs": [
    {
     "output_type": "stream",
     "name": "stdout",
     "output_type": "stream",
     "text": [
      "The number of diamonds with carat size in range [0, 1) is 34880.\nThe number of diamonds with carat size in range [1, 2) is 16906.\nThe number of diamonds with carat size in range [2, 3) is 2114.\nThe number of diamonds with carat size in range [3, 4) is 34.\nThe number of diamonds with carat size in range [4, 5) is 5.\nThe number of diamonds with carat size in range [5, 6) is 1.\n"
     ]
    }
   ],
   "source": [
    "ranges = [(0, 1), (1, 2), (2, 3), (3, 4), (4, 5), (5, 6)]\n",
    "\n",
    "for lower_bound, upper_bound in ranges:\n",
    "    count = diamonds.filter((col(\"carat\") >= lower_bound) & (col(\"carat\") < upper_bound)).count()\n",
    "    print(f\"The number of diamonds with carat size in range [{lower_bound}, {upper_bound}) is {count}.\")"
   ]
  },
  {
   "cell_type": "markdown",
   "metadata": {
    "application/vnd.databricks.v1+cell": {
     "cellMetadata": {
      "byteLimit": 2048000,
      "rowLimit": 10000
     },
     "inputWidgets": {},
     "nuid": "8745eba6-cf69-446b-9ebf-9cdc7207cd2f",
     "showTitle": false,
     "title": ""
    }
   },
   "source": [
    "## Problem 3: Binning by Carat Size"
   ]
  },
  {
   "cell_type": "code",
   "execution_count": 0,
   "metadata": {
    "application/vnd.databricks.v1+cell": {
     "cellMetadata": {
      "byteLimit": 2048000,
      "rowLimit": 10000
     },
     "inputWidgets": {},
     "nuid": "6f13705a-951b-483e-9a46-447862b8c0b6",
     "showTitle": false,
     "title": ""
    }
   },
   "outputs": [
    {
     "output_type": "stream",
     "name": "stdout",
     "output_type": "stream",
     "text": [
      "Out[6]: <function __main__.carat_bin(carat_size: float) -> str>"
     ]
    }
   ],
   "source": [
    "def carat_bin(carat_size: float) -> str:\n",
    "    if 0 <= carat_size < 1:\n",
    "        return \"[0,1)\"\n",
    "    elif 1 <= carat_size < 2:\n",
    "        return \"[1,2)\"\n",
    "    elif 2 <= carat_size < 3:\n",
    "        return \"[2,3)\"\n",
    "    elif 3 <= carat_size < 4:\n",
    "        return \"[3,4)\"\n",
    "    elif 4 <= carat_size < 5:\n",
    "        return \"[4,5)\"\n",
    "    elif 5 <= carat_size < 6:\n",
    "        return \"[5,6)\"\n",
    "    else:\n",
    "        return \"Big Boy\"\n",
    "    \n",
    "spark.udf.register(\"carat_bin_udf\", carat_bin, \"string\")"
   ]
  },
  {
   "cell_type": "code",
   "execution_count": 0,
   "metadata": {
    "application/vnd.databricks.v1+cell": {
     "cellMetadata": {
      "byteLimit": 2048000,
      "rowLimit": 10000
     },
     "inputWidgets": {},
     "nuid": "d9f59308-41d8-40b9-8773-2b16ce28d3b0",
     "showTitle": false,
     "title": ""
    }
   },
   "outputs": [
    {
     "output_type": "stream",
     "name": "stdout",
     "output_type": "stream",
     "text": [
      "+---------+----------+---------+\n|carat_bin|n_diamonds|avg_price|\n+---------+----------+---------+\n|    [0,1)|     34880|   1633.0|\n|    [1,2)|     16906|   7288.0|\n|    [2,3)|      2114|  14847.0|\n|    [3,4)|        34|  14309.0|\n|    [4,5)|         5|  16458.0|\n|    [5,6)|         1|  18018.0|\n+---------+----------+---------+\n\n"
     ]
    }
   ],
   "source": [
    "(diamonds\n",
    " .withColumn(\"carat_bin\", expr(\"carat_bin_udf(carat)\"))\n",
    " .groupBy(\"carat_bin\")\n",
    " .agg(\n",
    "     expr(\"COUNT(*) AS n_diamonds\"),\n",
    "     expr(\"ROUND(AVG(price), 0) AS avg_price\")\n",
    " )\n",
    " .orderBy(\"carat_bin\")\n",
    " .show())"
   ]
  },
  {
   "cell_type": "markdown",
   "metadata": {
    "application/vnd.databricks.v1+cell": {
     "cellMetadata": {
      "byteLimit": 2048000,
      "rowLimit": 10000
     },
     "inputWidgets": {},
     "nuid": "e75f13d2-2d5c-4a1f-ba74-821d87ac1d20",
     "showTitle": false,
     "title": ""
    }
   },
   "source": [
    "## Load IMDB Data"
   ]
  },
  {
   "cell_type": "code",
   "execution_count": 0,
   "metadata": {
    "application/vnd.databricks.v1+cell": {
     "cellMetadata": {
      "byteLimit": 2048000,
      "rowLimit": 10000
     },
     "inputWidgets": {},
     "nuid": "e997ae1a-da51-4c71-944b-1f2aa3859425",
     "showTitle": false,
     "title": ""
    }
   },
   "outputs": [
    {
     "output_type": "stream",
     "name": "stdout",
     "output_type": "stream",
     "text": [
      "root\n |-- imdb_title_id: string (nullable = true)\n |-- title: string (nullable = true)\n |-- year: string (nullable = true)\n |-- genre: string (nullable = true)\n |-- duration: string (nullable = true)\n |-- country: string (nullable = true)\n |-- language: string (nullable = true)\n\n"
     ]
    }
   ],
   "source": [
    "movies = spark.read.option(\"delimiter\", \"\\t\").option(\"header\", \"true\").csv(\"/FileStore/tables/imdb/movies.txt\")\n",
    "movies.printSchema()"
   ]
  },
  {
   "cell_type": "code",
   "execution_count": 0,
   "metadata": {
    "application/vnd.databricks.v1+cell": {
     "cellMetadata": {
      "byteLimit": 2048000,
      "rowLimit": 10000
     },
     "inputWidgets": {},
     "nuid": "5d3502f0-7cd3-441c-968f-d5b3de3a098f",
     "showTitle": false,
     "title": ""
    }
   },
   "outputs": [
    {
     "output_type": "stream",
     "name": "stdout",
     "output_type": "stream",
     "text": [
      "root\n |-- imdb_name_id: string (nullable = true)\n |-- name: string (nullable = true)\n |-- birth_name: string (nullable = true)\n |-- height: string (nullable = true)\n |-- bio: string (nullable = true)\n |-- date_of_birth: string (nullable = true)\n |-- date_of_death: string (nullable = true)\n\n"
     ]
    }
   ],
   "source": [
    "names = spark.read.option(\"delimiter\", \"\\t\").option(\"header\", \"true\").csv(\"/FileStore/tables/imdb/names.txt\")\n",
    "names.printSchema()"
   ]
  },
  {
   "cell_type": "code",
   "execution_count": 0,
   "metadata": {
    "application/vnd.databricks.v1+cell": {
     "cellMetadata": {
      "byteLimit": 2048000,
      "rowLimit": 10000
     },
     "inputWidgets": {},
     "nuid": "7412d8b6-cc7e-4c04-af61-cceecda6dfe2",
     "showTitle": false,
     "title": ""
    }
   },
   "outputs": [
    {
     "output_type": "stream",
     "name": "stdout",
     "output_type": "stream",
     "text": [
      "root\n |-- imdb_title_id: string (nullable = true)\n |-- ordering: string (nullable = true)\n |-- imdb_name_id: string (nullable = true)\n |-- category: string (nullable = true)\n |-- characters: string (nullable = true)\n\n"
     ]
    }
   ],
   "source": [
    "title_principals = spark.read.option(\"delimiter\", \"\\t\").option(\"header\", \"true\").csv(\"/FileStore/tables/imdb/title_principals.txt\")\n",
    "title_principals.printSchema()"
   ]
  },
  {
   "cell_type": "code",
   "execution_count": 0,
   "metadata": {
    "application/vnd.databricks.v1+cell": {
     "cellMetadata": {
      "byteLimit": 2048000,
      "rowLimit": 10000
     },
     "inputWidgets": {},
     "nuid": "303c1ad3-1f7d-4f3a-b80a-0c3b875c297d",
     "showTitle": false,
     "title": ""
    }
   },
   "outputs": [
    {
     "output_type": "stream",
     "name": "stdout",
     "output_type": "stream",
     "text": [
      "root\n |-- imdb_title_id: string (nullable = true)\n |-- rating: string (nullable = true)\n |-- total_votes: string (nullable = true)\n\n"
     ]
    }
   ],
   "source": [
    "ratings = spark.read.option(\"delimiter\", \"\\t\").option(\"header\", \"true\").csv(\"/FileStore/tables/imdb/ratings.txt\")\n",
    "ratings.printSchema()"
   ]
  },
  {
   "cell_type": "markdown",
   "metadata": {
    "application/vnd.databricks.v1+cell": {
     "cellMetadata": {
      "byteLimit": 2048000,
      "rowLimit": 10000
     },
     "inputWidgets": {},
     "nuid": "d25916ab-4e83-43b1-a8f2-9a70b678a2a7",
     "showTitle": false,
     "title": ""
    }
   },
   "source": [
    "## Problem 4: Number of Appearances by Actor"
   ]
  },
  {
   "cell_type": "code",
   "execution_count": 0,
   "metadata": {
    "application/vnd.databricks.v1+cell": {
     "cellMetadata": {
      "byteLimit": 2048000,
      "rowLimit": 10000
     },
     "inputWidgets": {},
     "nuid": "66a5d757-0a6e-4a4e-92a3-b84705049274",
     "showTitle": false,
     "title": ""
    }
   },
   "outputs": [
    {
     "output_type": "stream",
     "name": "stdout",
     "output_type": "stream",
     "text": [
      "+-----------------+-----------+\n|             name|appearances|\n+-----------------+-----------+\n|         Mohanlal|        163|\n| Amitabh Bachchan|        142|\n|        Mammootty|        140|\n|     Eric Roberts|        133|\n|       John Wayne|        132|\n| Gérard Depardieu|        130|\n|      Prakash Raj|        125|\n|     Akshay Kumar|        115|\n|   Michael Madsen|        107|\n|         Andy Lau|        102|\n|Catherine Deneuve|        101|\n|      Anupam Kher|         99|\n|     Brahmanandam|         99|\n|    Michael Caine|         94|\n|       Ajay Devgn|         94|\n|  Christopher Lee|         93|\n+-----------------+-----------+\nonly showing top 16 rows\n\n"
     ]
    }
   ],
   "source": [
    "(title_principals\n",
    " .filter((col(\"category\") == \"actor\") | (col(\"category\") == \"actress\"))\n",
    " .groupBy(\"imdb_name_id\")\n",
    " .agg(expr(\"COUNT(imdb_title_id) AS appearances\"))\n",
    " .join(names, \"imdb_name_id\", \"inner\")\n",
    " .select(\"name\", \"appearances\")\n",
    " .orderBy(col(\"appearances\").desc())\n",
    " .show(16))"
   ]
  },
  {
   "cell_type": "markdown",
   "metadata": {
    "application/vnd.databricks.v1+cell": {
     "cellMetadata": {
      "byteLimit": 2048000,
      "rowLimit": 10000
     },
     "inputWidgets": {},
     "nuid": "a9c70091-3774-468e-91b7-15970d71af1e",
     "showTitle": false,
     "title": ""
    }
   },
   "source": [
    "## Problem 5: Average Rating by Director"
   ]
  },
  {
   "cell_type": "code",
   "execution_count": 0,
   "metadata": {
    "application/vnd.databricks.v1+cell": {
     "cellMetadata": {
      "byteLimit": 2048000,
      "rowLimit": 10000
     },
     "inputWidgets": {},
     "nuid": "ca5c27c7-c94e-4e52-8de9-c852888944b4",
     "showTitle": false,
     "title": ""
    }
   },
   "outputs": [
    {
     "output_type": "stream",
     "name": "stdout",
     "output_type": "stream",
     "text": [
      "+---------------------+---------+-----------+----------+\n|name                 |num_films|total_votes|avg_rating|\n+---------------------+---------+-----------+----------+\n|Christopher Nolan    |11       |1.1653144E7|8.22      |\n|Lee Unkrich          |5        |3329612.0  |8.14      |\n|Hayao Miyazaki       |12       |2254496.0  |8.01      |\n|Quentin Tarantino    |14       |9460772.0  |7.93      |\n|Sergio Leone         |7        |1720654.0  |7.93      |\n|Stanley Kubrick      |13       |4232356.0  |7.78      |\n|David Fincher        |10       |6944421.0  |7.76      |\n|Sam Mendes           |10       |3067512.0  |7.73      |\n|Alejandro G. Iñárritu|7        |2067540.0  |7.61      |\n|Wes Anderson         |9        |2173090.0  |7.61      |\n|Peter Jackson        |13       |7304418.0  |7.58      |\n|Brad Bird            |6        |2294748.0  |7.57      |\n|Alfonso Cuarón       |8        |2078975.0  |7.54      |\n|Andrew Stanton       |5        |2649551.0  |7.52      |\n|Akira Kurosawa       |32       |1061519.0  |7.51      |\n|Bong Joon Ho         |8        |1172684.0  |7.51      |\n+---------------------+---------+-----------+----------+\nonly showing top 16 rows\n\n"
     ]
    }
   ],
   "source": [
    "(title_principals\n",
    " .filter(col(\"category\") == \"director\")\n",
    " .join(ratings, \"imdb_title_id\", \"inner\")\n",
    " .groupBy(\"imdb_name_id\")\n",
    " .agg(\n",
    "     expr(\"COUNT(imdb_title_id) AS num_films\"),\n",
    "     expr(\"SUM(total_votes) AS total_votes\"),\n",
    "     expr(\"ROUND(AVG(rating), 2) AS avg_rating\")\n",
    " )\n",
    " .filter((col(\"num_films\") >= 5) & (col(\"total_votes\") >= 1000000))\n",
    " .join(names, \"imdb_name_id\", \"inner\")\n",
    " .select(\"name\", \"num_films\", \"total_votes\", \"avg_rating\")\n",
    " .orderBy(col(\"avg_rating\").desc())\n",
    " .show(16, truncate=False))"
   ]
  },
  {
   "cell_type": "markdown",
   "metadata": {
    "application/vnd.databricks.v1+cell": {
     "cellMetadata": {
      "byteLimit": 2048000,
      "rowLimit": 10000
     },
     "inputWidgets": {},
     "nuid": "ce83691e-3511-4bb4-8341-4a3d3f996835",
     "showTitle": false,
     "title": ""
    }
   },
   "source": [
    "## Problem 6: Actors Appearing in Horror Films"
   ]
  },
  {
   "cell_type": "code",
   "execution_count": 0,
   "metadata": {
    "application/vnd.databricks.v1+cell": {
     "cellMetadata": {
      "byteLimit": 2048000,
      "rowLimit": 10000
     },
     "inputWidgets": {},
     "nuid": "f40608ed-a01e-463a-8a50-4b2b06deb51f",
     "showTitle": false,
     "title": ""
    }
   },
   "outputs": [
    {
     "output_type": "stream",
     "name": "stdout",
     "output_type": "stream",
     "text": [
      "Number of horror films: 9557\n"
     ]
    }
   ],
   "source": [
    "horror_films = movies.filter(expr('genre LIKE \"%Horror%\"'))\n",
    "\n",
    "num_horror_films = horror_films.count()\n",
    "print(f\"Number of horror films: {num_horror_films}\")"
   ]
  },
  {
   "cell_type": "code",
   "execution_count": 0,
   "metadata": {
    "application/vnd.databricks.v1+cell": {
     "cellMetadata": {
      "byteLimit": 2048000,
      "rowLimit": 10000
     },
     "inputWidgets": {},
     "nuid": "cc42ea7d-844c-4745-b382-8e2d28a73b9e",
     "showTitle": false,
     "title": ""
    }
   },
   "outputs": [
    {
     "output_type": "stream",
     "name": "stdout",
     "output_type": "stream",
     "text": [
      "+----------------+---------+\n|            name|num_films|\n+----------------+---------+\n| Christopher Lee|       56|\n|   Peter Cushing|       47|\n|   Boris Karloff|       46|\n|  John Carradine|       43|\n|     Bela Lugosi|       38|\n|   Vincent Price|       34|\n| Lance Henriksen|       33|\n|    Eric Roberts|       29|\n|  Lon Chaney Jr.|       28|\n|       Tony Todd|       27|\n|    Bill Moseley|       27|\n|     Paul Naschy|       26|\n|Donald Pleasence|       26|\n|  Robert Englund|       23|\n|     Brad Dourif|       23|\n|       Sergey A.|       23|\n+----------------+---------+\nonly showing top 16 rows\n\n"
     ]
    }
   ],
   "source": [
    "(title_principals\n",
    " .filter((col(\"category\") == \"actor\") | (col(\"category\") == \"actress\"))\n",
    " .join(horror_films, \"imdb_title_id\", \"inner\")\n",
    " .groupBy(\"imdb_name_id\")\n",
    " .agg(expr(\"COUNT(imdb_title_id) AS num_films\"))\n",
    " .join(names, \"imdb_name_id\", \"inner\")\n",
    " .select(\"name\", \"num_films\")\n",
    " .orderBy(col(\"num_films\").desc())\n",
    " .show(16))"
   ]
  }
 ],
 "metadata": {
  "application/vnd.databricks.v1+notebook": {
   "dashboards": [],
   "language": "python",
   "notebookMetadata": {
    "pythonIndentUnit": 4
   },
   "notebookName": "Boczkaja_Jeffery_HW04",
   "widgets": {}
  }
 },
 "nbformat": 4,
 "nbformat_minor": 0
}
