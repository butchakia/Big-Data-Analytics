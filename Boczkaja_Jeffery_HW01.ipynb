{
 "cells": [
  {
   "cell_type": "markdown",
   "metadata": {
    "application/vnd.databricks.v1+cell": {
     "cellMetadata": {
      "byteLimit": 2048000,
      "rowLimit": 10000
     },
     "inputWidgets": {},
     "nuid": "c6862dcd-f28d-428c-a96a-a97acf06fe03",
     "showTitle": false,
     "title": ""
    }
   },
   "source": [
    "# DSCI 617 - Homework 01\n",
    "**Jeffery Boczkaja**"
   ]
  },
  {
   "cell_type": "code",
   "execution_count": 0,
   "metadata": {
    "application/vnd.databricks.v1+cell": {
     "cellMetadata": {
      "byteLimit": 2048000,
      "rowLimit": 10000
     },
     "inputWidgets": {},
     "nuid": "d36c2da7-01da-4e91-94fb-88fdb90b8043",
     "showTitle": false,
     "title": ""
    }
   },
   "outputs": [],
   "source": [
    "import sys\n",
    "import pyspark\n",
    "import math\n",
    "import numpy as np\n",
    "import matplotlib.pyplot as plt\n",
    "from pyspark.sql import SparkSession\n",
    "from pyspark.mllib.random import RandomRDDs"
   ]
  },
  {
   "cell_type": "code",
   "execution_count": 0,
   "metadata": {
    "application/vnd.databricks.v1+cell": {
     "cellMetadata": {
      "byteLimit": 2048000,
      "rowLimit": 10000
     },
     "inputWidgets": {},
     "nuid": "cbda88da-9f35-4e16-8ea4-5ab7ea4ab038",
     "showTitle": false,
     "title": ""
    }
   },
   "outputs": [],
   "source": [
    "spark = SparkSession.builder.getOrCreate()\n",
    "sc = spark.sparkContext"
   ]
  },
  {
   "cell_type": "markdown",
   "metadata": {
    "application/vnd.databricks.v1+cell": {
     "cellMetadata": {
      "byteLimit": 2048000,
      "rowLimit": 10000
     },
     "inputWidgets": {},
     "nuid": "151b53e1-6e96-49f6-98c2-5ef1c5e00068",
     "showTitle": false,
     "title": ""
    }
   },
   "source": [
    "## Problem 1: Terminology"
   ]
  },
  {
   "cell_type": "markdown",
   "metadata": {
    "application/vnd.databricks.v1+cell": {
     "cellMetadata": {
      "byteLimit": 2048000,
      "rowLimit": 10000
     },
     "inputWidgets": {},
     "nuid": "deeb79da-7875-4f17-93d2-48a9731a2374",
     "showTitle": false,
     "title": ""
    }
   },
   "source": [
    "1. Scala\n",
    "2. SparkSession\n",
    "3. SparkContext\n",
    "4. Resilient Distributed Dataset\n",
    "5. Partitions\n",
    "6. Transformation\n",
    "7. Action\n",
    "8. Transformation\n",
    "9. Action\n",
    "10. Transformation\n",
    "11. Action\n",
    "12. Action\n",
    "13. Master Node\n",
    "14. Worker Nodes\n",
    "15. Cluster Manager\n",
    "16. Executors"
   ]
  },
  {
   "cell_type": "markdown",
   "metadata": {
    "application/vnd.databricks.v1+cell": {
     "cellMetadata": {
      "byteLimit": 2048000,
      "rowLimit": 10000
     },
     "inputWidgets": {},
     "nuid": "95dce472-c98c-40ac-a009-ff249fdb1377",
     "showTitle": false,
     "title": ""
    }
   },
   "source": [
    "## Problem 2: Working with a Numberical RDD"
   ]
  },
  {
   "cell_type": "code",
   "execution_count": 0,
   "metadata": {
    "application/vnd.databricks.v1+cell": {
     "cellMetadata": {
      "byteLimit": 2048000,
      "rowLimit": 10000
     },
     "inputWidgets": {},
     "nuid": "e89ab2f3-d9ba-4f61-a5c0-cd6b4a9d6ceb",
     "showTitle": false,
     "title": ""
    }
   },
   "outputs": [
    {
     "output_type": "stream",
     "name": "stdout",
     "output_type": "stream",
     "text": [
      "Sum:      599429.7862981893\nMean:     0.4995248219151624\nStd Dev:  0.28868906841278813\nMinimum:  1.0351479373671424e-07\nMaximum:  0.9999991929309536\n"
     ]
    }
   ],
   "source": [
    "random_rdd = RandomRDDs.uniformRDD(sc, size=1200000,\n",
    "seed=1)\n",
    "print('Sum:     ', random_rdd.sum())\n",
    "print('Mean:    ', random_rdd.mean())\n",
    "print('Std Dev: ', random_rdd.stdev())\n",
    "print('Minimum: ', random_rdd.min())\n",
    "print('Maximum: ', random_rdd.max())"
   ]
  },
  {
   "cell_type": "code",
   "execution_count": 0,
   "metadata": {
    "application/vnd.databricks.v1+cell": {
     "cellMetadata": {
      "byteLimit": 2048000,
      "rowLimit": 10000
     },
     "inputWidgets": {},
     "nuid": "06f86825-d6c2-44a0-8aeb-3970de2c68af",
     "showTitle": false,
     "title": ""
    }
   },
   "outputs": [
    {
     "output_type": "stream",
     "name": "stdout",
     "output_type": "stream",
     "text": [
      "Number of Partitions in RDD: 2\nSize of Partitions\n[600000, 600000]\n"
     ]
    }
   ],
   "source": [
    "print('Number of Partitions in RDD:', random_rdd.getNumPartitions())\n",
    "gmc = random_rdd.glom().map(len).collect()\n",
    "print('Size of Partitions')\n",
    "print(gmc)"
   ]
  },
  {
   "cell_type": "markdown",
   "metadata": {
    "application/vnd.databricks.v1+cell": {
     "cellMetadata": {
      "byteLimit": 2048000,
      "rowLimit": 10000
     },
     "inputWidgets": {},
     "nuid": "7b543631-f8b5-4e74-a48c-587f7ae576fb",
     "showTitle": false,
     "title": ""
    }
   },
   "source": [
    "## Problem 3: Transformations"
   ]
  },
  {
   "cell_type": "code",
   "execution_count": 0,
   "metadata": {
    "application/vnd.databricks.v1+cell": {
     "cellMetadata": {
      "byteLimit": 2048000,
      "rowLimit": 10000
     },
     "inputWidgets": {},
     "nuid": "fab3c348-5ef1-4bcc-a2e1-e8dac04d91f1",
     "showTitle": false,
     "title": ""
    }
   },
   "outputs": [
    {
     "output_type": "stream",
     "name": "stdout",
     "output_type": "stream",
     "text": [
      "Sum:      5994297.86298199\nMean:     4.995248219151683\nStd Dev:  2.8868906841278412\nMinimum:  1.0351479373671424e-06\nMaximum:  9.999991929309536\n"
     ]
    }
   ],
   "source": [
    "scaled_rdd = random_rdd.map(lambda x : x*10)\n",
    "print('Sum:     ', scaled_rdd.sum())\n",
    "print('Mean:    ', scaled_rdd.mean())\n",
    "print('Std Dev: ', scaled_rdd.stdev())\n",
    "print('Minimum: ', scaled_rdd.min())\n",
    "print('Maximum: ', scaled_rdd.max())"
   ]
  },
  {
   "cell_type": "code",
   "execution_count": 0,
   "metadata": {
    "application/vnd.databricks.v1+cell": {
     "cellMetadata": {
      "byteLimit": 2048000,
      "rowLimit": 10000
     },
     "inputWidgets": {},
     "nuid": "cf077112-43ef-4621-9dce-07cc89ffec06",
     "showTitle": false,
     "title": ""
    }
   },
   "outputs": [
    {
     "output_type": "stream",
     "name": "stdout",
     "output_type": "stream",
     "text": [
      "Sum:      1561532.1140514212\nMean:     1.3012767617095178\nStd Dev:  1.0004767070222784\nMinimum:  -13.780966206806882\nMaximum:  2.3025842859246737\n"
     ]
    }
   ],
   "source": [
    "log_rdd = scaled_rdd.map(lambda x: math.log(x))\n",
    "print('Sum:     ', log_rdd.sum())\n",
    "print('Mean:    ', log_rdd.mean())\n",
    "print('Std Dev: ', log_rdd.stdev())\n",
    "print('Minimum: ', log_rdd.min())\n",
    "print('Maximum: ', log_rdd.max())"
   ]
  },
  {
   "cell_type": "markdown",
   "metadata": {
    "application/vnd.databricks.v1+cell": {
     "cellMetadata": {
      "byteLimit": 2048000,
      "rowLimit": 10000
     },
     "inputWidgets": {},
     "nuid": "42167124-0eb5-4a88-b13a-6224f8445dea",
     "showTitle": false,
     "title": ""
    }
   },
   "source": [
    "## Problem 4: Calculating SSE"
   ]
  },
  {
   "cell_type": "code",
   "execution_count": 0,
   "metadata": {
    "application/vnd.databricks.v1+cell": {
     "cellMetadata": {
      "byteLimit": 2048000,
      "rowLimit": 10000
     },
     "inputWidgets": {},
     "nuid": "542ace5d-c675-4871-8c21-dcedf0356363",
     "showTitle": false,
     "title": ""
    }
   },
   "outputs": [
    {
     "output_type": "stream",
     "name": "stdout",
     "output_type": "stream",
     "text": [
      "12743548\n"
     ]
    }
   ],
   "source": [
    "pairs_raw = sc.textFile('/FileStore/tables/pairs_data.txt')\n",
    "print(pairs_raw.count())"
   ]
  },
  {
   "cell_type": "code",
   "execution_count": 0,
   "metadata": {
    "application/vnd.databricks.v1+cell": {
     "cellMetadata": {
      "byteLimit": 2048000,
      "rowLimit": 10000
     },
     "inputWidgets": {},
     "nuid": "c99f181d-98c4-432a-8644-496fa5304f56",
     "showTitle": false,
     "title": ""
    }
   },
   "outputs": [
    {
     "output_type": "stream",
     "name": "stdout",
     "output_type": "stream",
     "text": [
      "12.3 12.1\n9.1 8.7\n9.3 9.9\n8.5 8.5\n11.2 10.8\n"
     ]
    }
   ],
   "source": [
    "for element in pairs_raw.take(5):\n",
    "    print(element)"
   ]
  },
  {
   "cell_type": "code",
   "execution_count": 0,
   "metadata": {
    "application/vnd.databricks.v1+cell": {
     "cellMetadata": {
      "byteLimit": 2048000,
      "rowLimit": 10000
     },
     "inputWidgets": {},
     "nuid": "18fd1973-3063-4de5-91aa-0de815e76c23",
     "showTitle": false,
     "title": ""
    }
   },
   "outputs": [
    {
     "output_type": "stream",
     "name": "stdout",
     "output_type": "stream",
     "text": [
      "(12.3, 12.1)\n(9.1, 8.7)\n(9.3, 9.9)\n(8.5, 8.5)\n(11.2, 10.8)\n"
     ]
    }
   ],
   "source": [
    "def process_line(row):\n",
    "    tokens = row.split()\n",
    "    value0 = float(tokens[0])\n",
    "    value1 = float(tokens[1])\n",
    "    return (value0, value1)\n",
    "\n",
    "pairs = pairs_raw.map(process_line)\n",
    "\n",
    "for element in pairs_raw.take(5):\n",
    "    processed_tuple = process_line(element)\n",
    "    print(processed_tuple)"
   ]
  },
  {
   "cell_type": "code",
   "execution_count": 0,
   "metadata": {
    "application/vnd.databricks.v1+cell": {
     "cellMetadata": {
      "byteLimit": 2048000,
      "rowLimit": 10000
     },
     "inputWidgets": {},
     "nuid": "c73a15d8-37dc-451d-a6f6-589c26b55388",
     "showTitle": false,
     "title": ""
    }
   },
   "outputs": [
    {
     "output_type": "stream",
     "name": "stdout",
     "output_type": "stream",
     "text": [
      "4597380.190042952\n"
     ]
    }
   ],
   "source": [
    "squared_diff_rdd = pairs.map(lambda pair: (pair[0] - pair[1])**2)\n",
    "SSE = squared_diff_rdd.sum()\n",
    "print(SSE)"
   ]
  },
  {
   "cell_type": "markdown",
   "metadata": {
    "application/vnd.databricks.v1+cell": {
     "cellMetadata": {
      "byteLimit": 2048000,
      "rowLimit": 10000
     },
     "inputWidgets": {},
     "nuid": "1f77ac32-5aee-44dd-b872-a06a1326fd88",
     "showTitle": false,
     "title": ""
    }
   },
   "source": [
    "## Problem 5: Calculating r-Squared"
   ]
  },
  {
   "cell_type": "code",
   "execution_count": 0,
   "metadata": {
    "application/vnd.databricks.v1+cell": {
     "cellMetadata": {
      "byteLimit": 2048000,
      "rowLimit": 10000
     },
     "inputWidgets": {},
     "nuid": "3f0d82fb-d241-4dfa-836d-d719f38a9dee",
     "showTitle": false,
     "title": ""
    }
   },
   "outputs": [
    {
     "output_type": "stream",
     "name": "stdout",
     "output_type": "stream",
     "text": [
      "10.00013136059118\n"
     ]
    }
   ],
   "source": [
    "first_elements_rdd = pairs.map(lambda pair: pair[0])\n",
    "mean = first_elements_rdd.mean()\n",
    "print(mean)"
   ]
  },
  {
   "cell_type": "code",
   "execution_count": 0,
   "metadata": {
    "application/vnd.databricks.v1+cell": {
     "cellMetadata": {
      "byteLimit": 2048000,
      "rowLimit": 10000
     },
     "inputWidgets": {},
     "nuid": "9c7336f5-1c03-4f30-8d64-42a12c229746",
     "showTitle": false,
     "title": ""
    }
   },
   "outputs": [
    {
     "output_type": "stream",
     "name": "stdout",
     "output_type": "stream",
     "text": [
      "24980514.859974924\n"
     ]
    }
   ],
   "source": [
    "squared_diff_mean_rdd = pairs.map(lambda pair: (pair[0] - mean)**2)\n",
    "SST = squared_diff_mean_rdd.sum()\n",
    "print(SST)"
   ]
  },
  {
   "cell_type": "code",
   "execution_count": 0,
   "metadata": {
    "application/vnd.databricks.v1+cell": {
     "cellMetadata": {
      "byteLimit": 2048000,
      "rowLimit": 10000
     },
     "inputWidgets": {},
     "nuid": "9bc8ee1b-038f-47bb-8afb-04969f8228d1",
     "showTitle": false,
     "title": ""
    }
   },
   "outputs": [
    {
     "output_type": "stream",
     "name": "stdout",
     "output_type": "stream",
     "text": [
      "0.815961351644953\n"
     ]
    }
   ],
   "source": [
    "r2= 1 - (SSE/SST)\n",
    "print(r2)"
   ]
  },
  {
   "cell_type": "markdown",
   "metadata": {
    "application/vnd.databricks.v1+cell": {
     "cellMetadata": {
      "byteLimit": 2048000,
      "rowLimit": 10000
     },
     "inputWidgets": {},
     "nuid": "1bf3e82c-7a19-40f8-a19b-f8ce847b45b5",
     "showTitle": false,
     "title": ""
    }
   },
   "source": [
    "## Problem 6: NASA Server Logs"
   ]
  },
  {
   "cell_type": "code",
   "execution_count": 0,
   "metadata": {
    "application/vnd.databricks.v1+cell": {
     "cellMetadata": {
      "byteLimit": 2048000,
      "rowLimit": 10000
     },
     "inputWidgets": {},
     "nuid": "ad889f35-1cd7-4cf2-b1f1-daf01502b9dc",
     "showTitle": false,
     "title": ""
    }
   },
   "outputs": [
    {
     "output_type": "stream",
     "name": "stdout",
     "output_type": "stream",
     "text": [
      "1569888\n"
     ]
    }
   ],
   "source": [
    " nasa = sc.textFile('/FileStore/tables/NASA_server_logs_Aug_1995.txt')\n",
    " print(nasa.count())"
   ]
  },
  {
   "cell_type": "code",
   "execution_count": 0,
   "metadata": {
    "application/vnd.databricks.v1+cell": {
     "cellMetadata": {
      "byteLimit": 2048000,
      "rowLimit": 10000
     },
     "inputWidgets": {},
     "nuid": "144b8253-ed03-4e90-8223-553908057490",
     "showTitle": false,
     "title": ""
    }
   },
   "outputs": [
    {
     "output_type": "stream",
     "name": "stdout",
     "output_type": "stream",
     "text": [
      "in24.inetnebr.com [01/Aug/1995:00:00:01] \"GET /shuttle/missions/sts-68/news/sts-68-mcc-05.txt\" 200 1839\nuplherc.upl.com [01/Aug/1995:00:00:07] \"GET /\" 304 0\nuplherc.upl.com [01/Aug/1995:00:00:08] \"GET /images/ksclogo-medium.gif\" 304 0\nuplherc.upl.com [01/Aug/1995:00:00:08] \"GET /images/MOSAIC-logosmall.gif\" 304 0\nuplherc.upl.com [01/Aug/1995:00:00:08] \"GET /images/USA-logosmall.gif\" 304 0\n"
     ]
    }
   ],
   "source": [
    "for element in nasa.take(5):\n",
    "    print(element)"
   ]
  },
  {
   "cell_type": "code",
   "execution_count": 0,
   "metadata": {
    "application/vnd.databricks.v1+cell": {
     "cellMetadata": {
      "byteLimit": 2048000,
      "rowLimit": 10000
     },
     "inputWidgets": {},
     "nuid": "6d6b63b2-6707-4ec5-af9a-146f1b292879",
     "showTitle": false,
     "title": ""
    }
   },
   "outputs": [],
   "source": [
    "get_requests_rdd = nasa.map(lambda x: 'GET' in x)\n",
    "num_get_requests = get_requests_rdd.sum()"
   ]
  },
  {
   "cell_type": "code",
   "execution_count": 0,
   "metadata": {
    "application/vnd.databricks.v1+cell": {
     "cellMetadata": {
      "byteLimit": 2048000,
      "rowLimit": 10000
     },
     "inputWidgets": {},
     "nuid": "03c9e843-fc6b-4e55-90f3-3f6f46947aa9",
     "showTitle": false,
     "title": ""
    }
   },
   "outputs": [],
   "source": [
    "post_requests_rdd = nasa.map(lambda x: 'POST' in x)\n",
    "num_post_requests = post_requests_rdd.sum()\n",
    "head_requests_rdd = nasa.map(lambda x: 'HEAD' in x)\n",
    "num_head_requests = head_requests_rdd.sum()"
   ]
  },
  {
   "cell_type": "code",
   "execution_count": 0,
   "metadata": {
    "application/vnd.databricks.v1+cell": {
     "cellMetadata": {
      "byteLimit": 2048000,
      "rowLimit": 10000
     },
     "inputWidgets": {},
     "nuid": "da0a9259-24f3-42c7-89d7-0edb4d967996",
     "showTitle": false,
     "title": ""
    }
   },
   "outputs": [
    {
     "output_type": "stream",
     "name": "stdout",
     "output_type": "stream",
     "text": [
      "Number of GET requests   1565812\nNumber of POST Requests: 111\nNumber of HEAD Requests: 3965\n"
     ]
    }
   ],
   "source": [
    "print(\"Number of GET requests  \" , num_get_requests)\n",
    "print(\"Number of POST Requests:\", num_post_requests)\n",
    "print(\"Number of HEAD Requests:\", num_head_requests)"
   ]
  }
 ],
 "metadata": {
  "application/vnd.databricks.v1+notebook": {
   "dashboards": [],
   "language": "python",
   "notebookMetadata": {
    "pythonIndentUnit": 4
   },
   "notebookName": "Boczkaja_Jeffery_HW01",
   "widgets": {}
  }
 },
 "nbformat": 4,
 "nbformat_minor": 0
}
