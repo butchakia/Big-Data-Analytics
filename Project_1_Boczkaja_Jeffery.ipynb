{
 "cells": [
  {
   "cell_type": "markdown",
   "metadata": {
    "application/vnd.databricks.v1+cell": {
     "cellMetadata": {
      "byteLimit": 2048000,
      "rowLimit": 10000
     },
     "inputWidgets": {},
     "nuid": "e29ec95f-64cd-403e-8095-c9cd57dadfb2",
     "showTitle": false,
     "title": ""
    }
   },
   "source": [
    "# DSCI 617 - Project 1\n",
    "## Analysis of NASA Server Logs\n",
    "**Jeffery Boczkaja**"
   ]
  },
  {
   "cell_type": "markdown",
   "metadata": {
    "application/vnd.databricks.v1+cell": {
     "cellMetadata": {
      "byteLimit": 2048000,
      "rowLimit": 10000
     },
     "inputWidgets": {},
     "nuid": "aee21802-6a77-44ad-aaa7-c377daa896dc",
     "showTitle": false,
     "title": ""
    }
   },
   "source": [
    "## Part A: Set up Environment\n",
    "We will set up our environment for our project."
   ]
  },
  {
   "cell_type": "markdown",
   "metadata": {
    "application/vnd.databricks.v1+cell": {
     "cellMetadata": {
      "byteLimit": 2048000,
      "rowLimit": 10000
     },
     "inputWidgets": {},
     "nuid": "2675a4b7-1baf-4d0e-9e65-6f87aaed4a77",
     "showTitle": false,
     "title": ""
    }
   },
   "source": [
    "We will begin with some import statements."
   ]
  },
  {
   "cell_type": "code",
   "execution_count": 0,
   "metadata": {
    "application/vnd.databricks.v1+cell": {
     "cellMetadata": {
      "byteLimit": 2048000,
      "rowLimit": 10000
     },
     "inputWidgets": {},
     "nuid": "4d91f45a-2ea7-43aa-83b3-2e319fec9909",
     "showTitle": false,
     "title": ""
    }
   },
   "outputs": [],
   "source": [
    "import matplotlib.pyplot as plt\n",
    "from pyspark.sql import SparkSession"
   ]
  },
  {
   "cell_type": "markdown",
   "metadata": {
    "application/vnd.databricks.v1+cell": {
     "cellMetadata": {
      "byteLimit": 2048000,
      "rowLimit": 10000
     },
     "inputWidgets": {},
     "nuid": "d7673e08-8eb9-4016-8cad-bf608e8df792",
     "showTitle": false,
     "title": ""
    }
   },
   "source": [
    "We will now create our SparkSession and SparkContext objects. "
   ]
  },
  {
   "cell_type": "code",
   "execution_count": 0,
   "metadata": {
    "application/vnd.databricks.v1+cell": {
     "cellMetadata": {
      "byteLimit": 2048000,
      "rowLimit": 10000
     },
     "inputWidgets": {},
     "nuid": "73b3c03e-2488-4ff1-8d75-f093e63f92c2",
     "showTitle": false,
     "title": ""
    }
   },
   "outputs": [],
   "source": [
    "spark = SparkSession.builder.getOrCreate()\n",
    "sc = spark.sparkContext"
   ]
  },
  {
   "cell_type": "markdown",
   "metadata": {
    "application/vnd.databricks.v1+cell": {
     "cellMetadata": {
      "byteLimit": 2048000,
      "rowLimit": 10000
     },
     "inputWidgets": {},
     "nuid": "5b70373b-d1d0-437e-bd8d-6235f287f9e1",
     "showTitle": false,
     "title": ""
    }
   },
   "source": [
    "## Part B: Load and Process Data\n",
    "In this project, we will be working with a file containing one month of server log data collected from NASA.gov\n",
    "in August 1995. "
   ]
  },
  {
   "cell_type": "markdown",
   "metadata": {
    "application/vnd.databricks.v1+cell": {
     "cellMetadata": {
      "byteLimit": 2048000,
      "rowLimit": 10000
     },
     "inputWidgets": {},
     "nuid": "7fc3c028-c605-438b-bd94-48b75d92cd1d",
     "showTitle": false,
     "title": ""
    }
   },
   "source": [
    "We begin by loading the data file into an RDD."
   ]
  },
  {
   "cell_type": "code",
   "execution_count": 0,
   "metadata": {
    "application/vnd.databricks.v1+cell": {
     "cellMetadata": {
      "byteLimit": 2048000,
      "rowLimit": 10000
     },
     "inputWidgets": {},
     "nuid": "b405f758-741d-427e-ad4c-b1c1b1ff442a",
     "showTitle": false,
     "title": ""
    }
   },
   "outputs": [
    {
     "output_type": "stream",
     "name": "stdout",
     "output_type": "stream",
     "text": [
      "1569888\n"
     ]
    }
   ],
   "source": [
    "nasa_raw = sc.textFile(\"/FileStore/tables/NASA_server_logs_Aug_1995.txt\")\n",
    "print(nasa_raw.count())"
   ]
  },
  {
   "cell_type": "markdown",
   "metadata": {
    "application/vnd.databricks.v1+cell": {
     "cellMetadata": {
      "byteLimit": 2048000,
      "rowLimit": 10000
     },
     "inputWidgets": {},
     "nuid": "142acb48-5842-40e1-87fc-68db05748e07",
     "showTitle": false,
     "title": ""
    }
   },
   "source": [
    "We will now display the first few elements of the RDD. "
   ]
  },
  {
   "cell_type": "code",
   "execution_count": 0,
   "metadata": {
    "application/vnd.databricks.v1+cell": {
     "cellMetadata": {
      "byteLimit": 2048000,
      "rowLimit": 10000
     },
     "inputWidgets": {},
     "nuid": "26ad57ae-82bf-4e52-b5a4-f49a505d30e1",
     "showTitle": false,
     "title": ""
    }
   },
   "outputs": [
    {
     "output_type": "stream",
     "name": "stdout",
     "output_type": "stream",
     "text": [
      "in24.inetnebr.com [01/Aug/1995:00:00:01] \"GET /shuttle/missions/sts-68/news/sts-68-mcc-05.txt\" 200 1839\nuplherc.upl.com [01/Aug/1995:00:00:07] \"GET /\" 304 0\nuplherc.upl.com [01/Aug/1995:00:00:08] \"GET /images/ksclogo-medium.gif\" 304 0\nuplherc.upl.com [01/Aug/1995:00:00:08] \"GET /images/MOSAIC-logosmall.gif\" 304 0\nuplherc.upl.com [01/Aug/1995:00:00:08] \"GET /images/USA-logosmall.gif\" 304 0\nix-esc-ca2-07.ix.netcom.com [01/Aug/1995:00:00:09] \"GET /images/launch-logo.gif\" 200 1713\nuplherc.upl.com [01/Aug/1995:00:00:10] \"GET /images/WORLD-logosmall.gif\" 304 0\nslppp6.intermind.net [01/Aug/1995:00:00:10] \"GET /history/skylab/skylab.html\" 200 1687\npiweba4y.prodigy.com [01/Aug/1995:00:00:10] \"GET /images/launchmedium.gif\" 200 11853\nslppp6.intermind.net [01/Aug/1995:00:00:11] \"GET /history/skylab/skylab-small.gif\" 200 9202\n"
     ]
    }
   ],
   "source": [
    "for element in nasa_raw.take(10):\n",
    "    print(element)"
   ]
  },
  {
   "cell_type": "markdown",
   "metadata": {
    "application/vnd.databricks.v1+cell": {
     "cellMetadata": {
      "byteLimit": 2048000,
      "rowLimit": 10000
     },
     "inputWidgets": {},
     "nuid": "d61e500e-4b05-4d6e-9187-b00cefe8b6ca",
     "showTitle": false,
     "title": ""
    }
   },
   "source": [
    "We will now process each line of server information by removing the double quotes, tokenizing the strings,\n",
    "replacing the hyphens that appear for the number of bytes with zeros, and coercing the values into appropriate\n",
    "datatypes."
   ]
  },
  {
   "cell_type": "code",
   "execution_count": 0,
   "metadata": {
    "application/vnd.databricks.v1+cell": {
     "cellMetadata": {
      "byteLimit": 2048000,
      "rowLimit": 10000
     },
     "inputWidgets": {},
     "nuid": "d7c905c7-2d42-45cc-8d5b-9962af8cc0be",
     "showTitle": false,
     "title": ""
    }
   },
   "outputs": [
    {
     "output_type": "stream",
     "name": "stdout",
     "output_type": "stream",
     "text": [
      "['in24.inetnebr.com', '[01/Aug/1995:00:00:01]', 'GET', '/shuttle/missions/sts-68/news/sts-68-mcc-05.txt', '200', 1839]\n['uplherc.upl.com', '[01/Aug/1995:00:00:07]', 'GET', '/', '304', 0]\n['uplherc.upl.com', '[01/Aug/1995:00:00:08]', 'GET', '/images/ksclogo-medium.gif', '304', 0]\n['uplherc.upl.com', '[01/Aug/1995:00:00:08]', 'GET', '/images/MOSAIC-logosmall.gif', '304', 0]\n['uplherc.upl.com', '[01/Aug/1995:00:00:08]', 'GET', '/images/USA-logosmall.gif', '304', 0]\n['ix-esc-ca2-07.ix.netcom.com', '[01/Aug/1995:00:00:09]', 'GET', '/images/launch-logo.gif', '200', 1713]\n['uplherc.upl.com', '[01/Aug/1995:00:00:10]', 'GET', '/images/WORLD-logosmall.gif', '304', 0]\n['slppp6.intermind.net', '[01/Aug/1995:00:00:10]', 'GET', '/history/skylab/skylab.html', '200', 1687]\n['piweba4y.prodigy.com', '[01/Aug/1995:00:00:10]', 'GET', '/images/launchmedium.gif', '200', 11853]\n['slppp6.intermind.net', '[01/Aug/1995:00:00:11]', 'GET', '/history/skylab/skylab-small.gif', '200', 9202]\n"
     ]
    }
   ],
   "source": [
    "def process_row(row):\n",
    "    row = row.replace(\"\\\"\", \"\")\n",
    "    tokens = row.split()\n",
    "    if tokens[-1] == \"-\":\n",
    "        tokens[-1] = \"0\"\n",
    "    tokens[-1] = int(tokens[-1])\n",
    "    return tokens\n",
    "\n",
    "nasa = nasa_raw.map(process_row)\n",
    "\n",
    "nasa.persist()\n",
    "\n",
    "for element in nasa.take(10):\n",
    "    print(element)"
   ]
  },
  {
   "cell_type": "markdown",
   "metadata": {
    "application/vnd.databricks.v1+cell": {
     "cellMetadata": {
      "byteLimit": 2048000,
      "rowLimit": 10000
     },
     "inputWidgets": {},
     "nuid": "7a49fd0d-602e-4fa9-946b-7e05db24ceb6",
     "showTitle": false,
     "title": ""
    }
   },
   "source": [
    "## Part C: Most Requested Resources\n",
    "In this part of the project, we will determine which resources were requested the most frequently. "
   ]
  },
  {
   "cell_type": "markdown",
   "metadata": {
    "application/vnd.databricks.v1+cell": {
     "cellMetadata": {
      "byteLimit": 2048000,
      "rowLimit": 10000
     },
     "inputWidgets": {},
     "nuid": "f6b208c5-d470-4484-bc9f-50f57f0d83a1",
     "showTitle": false,
     "title": ""
    }
   },
   "source": [
    "Create a pair RDD named count_by_resource by chaining together RDD transformations. "
   ]
  },
  {
   "cell_type": "code",
   "execution_count": 0,
   "metadata": {
    "application/vnd.databricks.v1+cell": {
     "cellMetadata": {
      "byteLimit": 2048000,
      "rowLimit": 10000
     },
     "inputWidgets": {},
     "nuid": "70efbba9-e1cf-4d55-a001-f1c7452f724f",
     "showTitle": false,
     "title": ""
    }
   },
   "outputs": [
    {
     "output_type": "stream",
     "name": "stdout",
     "output_type": "stream",
     "text": [
      "('/images/NASA-logosmall.gif', 97410)\n('/images/KSC-logosmall.gif', 75337)\n('/images/MOSAIC-logosmall.gif', 67448)\n('/images/USA-logosmall.gif', 67068)\n('/images/WORLD-logosmall.gif', 66444)\n('/images/ksclogo-medium.gif', 62778)\n('/ksc.html', 43688)\n('/history/apollo/images/apollo-logo1.gif', 37826)\n('/images/launch-logo.gif', 35138)\n('/', 30347)\n"
     ]
    }
   ],
   "source": [
    "count_by_resource = (nasa\n",
    "                     .map(lambda x: (x[3], 1))\n",
    "                     .reduceByKey(lambda a, b: a + b)\n",
    "                     .sortBy(lambda x: x[1], ascending=False))\n",
    "\n",
    "for element in count_by_resource.take(10):\n",
    "    print(element)"
   ]
  },
  {
   "cell_type": "markdown",
   "metadata": {
    "application/vnd.databricks.v1+cell": {
     "cellMetadata": {
      "byteLimit": 2048000,
      "rowLimit": 10000
     },
     "inputWidgets": {},
     "nuid": "a517b282-c65c-45e8-af78-5526ccaa6753",
     "showTitle": false,
     "title": ""
    }
   },
   "source": [
    "## Part D: Most Common Request Origins\n",
    "For each request, we are provided with the IP address or DNS hostname for the server from which the request\n",
    "originated. We will determine which servers are the origins for the greatest number of\n",
    "requests. "
   ]
  },
  {
   "cell_type": "markdown",
   "metadata": {
    "application/vnd.databricks.v1+cell": {
     "cellMetadata": {
      "byteLimit": 2048000,
      "rowLimit": 10000
     },
     "inputWidgets": {},
     "nuid": "e55cbb4c-d84d-4eae-9542-660dc842bce9",
     "showTitle": false,
     "title": ""
    }
   },
   "source": [
    "We will create a pair RDD named count_by_origin by chaining together RDD transformations. "
   ]
  },
  {
   "cell_type": "code",
   "execution_count": 0,
   "metadata": {
    "application/vnd.databricks.v1+cell": {
     "cellMetadata": {
      "byteLimit": 2048000,
      "rowLimit": 10000
     },
     "inputWidgets": {},
     "nuid": "81de20b5-f3e7-4048-8f3a-418627c4993b",
     "showTitle": false,
     "title": ""
    }
   },
   "outputs": [
    {
     "output_type": "stream",
     "name": "stdout",
     "output_type": "stream",
     "text": [
      "('edams.ksc.nasa.gov', 6530)\n('piweba4y.prodigy.com', 4846)\n('163.206.89.4', 4791)\n('piweba5y.prodigy.com', 4607)\n('piweba3y.prodigy.com', 4416)\n('www-d1.proxy.aol.com', 3889)\n('www-b2.proxy.aol.com', 3534)\n('www-b3.proxy.aol.com', 3463)\n('www-c5.proxy.aol.com', 3423)\n('www-b5.proxy.aol.com', 3411)\n"
     ]
    }
   ],
   "source": [
    "count_by_origin = (nasa\n",
    "                   .map(lambda x: (x[0], 1))\n",
    "                   .reduceByKey(lambda a, b: a + b)\n",
    "                   .sortBy(lambda x: x[1], ascending=False))\n",
    "\n",
    "for element in count_by_origin.take(10):\n",
    "    print(element)"
   ]
  },
  {
   "cell_type": "markdown",
   "metadata": {
    "application/vnd.databricks.v1+cell": {
     "cellMetadata": {
      "byteLimit": 2048000,
      "rowLimit": 10000
     },
     "inputWidgets": {},
     "nuid": "51b94d5c-08c7-4f23-b42c-c1c65baa58df",
     "showTitle": false,
     "title": ""
    }
   },
   "source": [
    "## Part E: Request Types\n",
    "We will analyze records based on their request type. "
   ]
  },
  {
   "cell_type": "markdown",
   "metadata": {
    "application/vnd.databricks.v1+cell": {
     "cellMetadata": {
      "byteLimit": 2048000,
      "rowLimit": 10000
     },
     "inputWidgets": {},
     "nuid": "35cdbc91-1b0d-44e5-bfb5-b4f43efea494",
     "showTitle": false,
     "title": ""
    }
   },
   "source": [
    "We will start by confirming that there are three different request types. "
   ]
  },
  {
   "cell_type": "code",
   "execution_count": 0,
   "metadata": {
    "application/vnd.databricks.v1+cell": {
     "cellMetadata": {
      "byteLimit": 2048000,
      "rowLimit": 10000
     },
     "inputWidgets": {},
     "nuid": "16c3224d-460a-427a-9334-149a2e7086e2",
     "showTitle": false,
     "title": ""
    }
   },
   "outputs": [
    {
     "output_type": "stream",
     "name": "stdout",
     "output_type": "stream",
     "text": [
      "GET\nHEAD\nPOST\n"
     ]
    }
   ],
   "source": [
    "req_types = nasa.map(lambda x: x[2]).distinct()\n",
    "\n",
    "for element in req_types.take(10):\n",
    "    print(element)"
   ]
  },
  {
   "cell_type": "markdown",
   "metadata": {
    "application/vnd.databricks.v1+cell": {
     "cellMetadata": {
      "byteLimit": 2048000,
      "rowLimit": 10000
     },
     "inputWidgets": {},
     "nuid": "9f3cf8eb-e770-4d01-9a0a-e1f963f81a89",
     "showTitle": false,
     "title": ""
    }
   },
   "source": [
    "We will now count the number of requests of each type."
   ]
  },
  {
   "cell_type": "code",
   "execution_count": 0,
   "metadata": {
    "application/vnd.databricks.v1+cell": {
     "cellMetadata": {
      "byteLimit": 2048000,
      "rowLimit": 10000
     },
     "inputWidgets": {},
     "nuid": "ff2eb404-cbaf-4f39-b31e-50ec45751f06",
     "showTitle": false,
     "title": ""
    }
   },
   "outputs": [
    {
     "output_type": "stream",
     "name": "stdout",
     "output_type": "stream",
     "text": [
      "There were 1565812 GET requests.\nThere were 3965 HEAD requests.\nThere were 111 POST requests.\n"
     ]
    }
   ],
   "source": [
    "request_counts = nasa.map(lambda x: (x[2], 1)).reduceByKey(lambda a, b: a + b)\n",
    "request_count = request_counts.take(request_counts.count())\n",
    "\n",
    "for req_type, count in request_count:\n",
    "    print(f\"There were {count} {req_type} requests.\")"
   ]
  },
  {
   "cell_type": "markdown",
   "metadata": {
    "application/vnd.databricks.v1+cell": {
     "cellMetadata": {
      "byteLimit": 2048000,
      "rowLimit": 10000
     },
     "inputWidgets": {},
     "nuid": "51538199-7738-4f61-ae1a-c11abb7a6b03",
     "showTitle": false,
     "title": ""
    }
   },
   "source": [
    "We will now determine the average number of bytes returned to the client for each request type."
   ]
  },
  {
   "cell_type": "code",
   "execution_count": 0,
   "metadata": {
    "application/vnd.databricks.v1+cell": {
     "cellMetadata": {
      "byteLimit": 2048000,
      "rowLimit": 10000
     },
     "inputWidgets": {},
     "nuid": "2095c7f8-ef02-4552-80ec-29a054b3f50e",
     "showTitle": false,
     "title": ""
    }
   },
   "outputs": [
    {
     "output_type": "stream",
     "name": "stdout",
     "output_type": "stream",
     "text": [
      "('GET', 17134)\n('HEAD', 0)\n('POST', 495)\n"
     ]
    }
   ],
   "source": [
    "avg_bytes = (nasa\n",
    "            .map(lambda x: (x[2], (x[-1], 1)))\n",
    "            .reduceByKey(lambda a, b: (a[0] + b[0], a[1] + b[1]))\n",
    "            .mapValues(lambda x: round(x[0] / x[1]))\n",
    "            )\n",
    "\n",
    "for element in avg_bytes.collect():\n",
    "    print(element)"
   ]
  },
  {
   "cell_type": "markdown",
   "metadata": {
    "application/vnd.databricks.v1+cell": {
     "cellMetadata": {
      "byteLimit": 2048000,
      "rowLimit": 10000
     },
     "inputWidgets": {},
     "nuid": "c5a35629-9323-4b76-8e52-16b32be795e8",
     "showTitle": false,
     "title": ""
    }
   },
   "source": [
    "## Part F: Status Codes\n",
    "We will analyze the status codes returned by the server. "
   ]
  },
  {
   "cell_type": "code",
   "execution_count": 0,
   "metadata": {
    "application/vnd.databricks.v1+cell": {
     "cellMetadata": {
      "byteLimit": 2048000,
      "rowLimit": 10000
     },
     "inputWidgets": {},
     "nuid": "a7e548e2-cd7e-494e-b42f-384d57343cc1",
     "showTitle": false,
     "title": ""
    }
   },
   "outputs": [
    {
     "output_type": "stream",
     "name": "stdout",
     "output_type": "stream",
     "text": [
      "['0', '200', '302', '304', '403', '404', '500', '501']\n"
     ]
    }
   ],
   "source": [
    "status_codes_rdd = nasa.map(lambda x: str(x[4])).distinct().sortBy(lambda x: x)\n",
    "status_codes = status_codes_rdd.take(10)\n",
    "print(status_codes)"
   ]
  },
  {
   "cell_type": "markdown",
   "metadata": {
    "application/vnd.databricks.v1+cell": {
     "cellMetadata": {
      "byteLimit": 2048000,
      "rowLimit": 10000
     },
     "inputWidgets": {},
     "nuid": "bc63a22e-778e-409e-a8f4-b1d86c93b5e2",
     "showTitle": false,
     "title": ""
    }
   },
   "source": [
    "We will now determine which status codes appear for each request type."
   ]
  },
  {
   "cell_type": "code",
   "execution_count": 0,
   "metadata": {
    "application/vnd.databricks.v1+cell": {
     "cellMetadata": {
      "byteLimit": 2048000,
      "rowLimit": 10000
     },
     "inputWidgets": {},
     "nuid": "4e8e3234-9f55-4009-b271-c6bc8a02092c",
     "showTitle": false,
     "title": ""
    }
   },
   "outputs": [
    {
     "output_type": "stream",
     "name": "stdout",
     "output_type": "stream",
     "text": [
      "Status codes for GET requests: ['0', '200', '302', '304', '403', '404', '500']\nStatus codes for HEAD requests: ['200', '302', '404']\nStatus codes for POST requests: ['200', '404', '501']\n"
     ]
    }
   ],
   "source": [
    "for req_type in req_types.take(3):\n",
    "    status_codes_for_request = (nasa\n",
    "                                .filter(lambda x: x[2] == req_type)\n",
    "                                .map(lambda x: str(x[4]))\n",
    "                                .distinct()\n",
    "                                .sortBy(lambda x: x)\n",
    "                                .collect())\n",
    "    print(f\"Status codes for {req_type} requests: {status_codes_for_request}\")"
   ]
  },
  {
   "cell_type": "markdown",
   "metadata": {
    "application/vnd.databricks.v1+cell": {
     "cellMetadata": {
      "byteLimit": 2048000,
      "rowLimit": 10000
     },
     "inputWidgets": {},
     "nuid": "41e38041-a809-4060-a211-409bfa91b91a",
     "showTitle": false,
     "title": ""
    }
   },
   "source": [
    "Next, we will count the number of requests resulting in each status code."
   ]
  },
  {
   "cell_type": "code",
   "execution_count": 0,
   "metadata": {
    "application/vnd.databricks.v1+cell": {
     "cellMetadata": {
      "byteLimit": 2048000,
      "rowLimit": 10000
     },
     "inputWidgets": {},
     "nuid": "0bceedec-5843-4f71-908b-0c7d85750544",
     "showTitle": false,
     "title": ""
    }
   },
   "outputs": [
    {
     "output_type": "display_data",
     "data": {
      "image/png": "[encoded data removed]"
     },
     "metadata": {
      "application/vnd.databricks.v1+output": {
       "addedWidgets": {},
       "arguments": {},
       "data": "data:image/png;base64,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\n",
       "datasetInfos": [],
       "metadata": {},
       "removedWidgets": [],
       "type": "image"
      }
     },
     "output_type": "display_data"
    }
   ],
   "source": [
    "code_counts = []\n",
    "for status in status_codes:\n",
    "    count = nasa.filter(lambda x: str(x[4]) == status).count()\n",
    "    code_counts.append(count)\n",
    "\n",
    "plt.figure(figsize=[10, 4])\n",
    "plt.bar(status_codes, code_counts, color='gold', edgecolor='black')\n",
    "plt.yscale('log')\n",
    "plt.title(\"Distribution of Status Codes\")\n",
    "plt.xlabel(\"Status Code\")\n",
    "plt.ylabel(\"Count\")\n",
    "plt.show()"
   ]
  },
  {
   "cell_type": "markdown",
   "metadata": {
    "application/vnd.databricks.v1+cell": {
     "cellMetadata": {
      "byteLimit": 2048000,
      "rowLimit": 10000
     },
     "inputWidgets": {},
     "nuid": "62a78980-81dc-4544-891a-690950b9b992",
     "showTitle": false,
     "title": ""
    }
   },
   "source": [
    "## Part G: Request Volume by Day\n",
    "We will determine the number of requests received by the server during each day\n",
    "in August 1995."
   ]
  },
  {
   "cell_type": "markdown",
   "metadata": {
    "application/vnd.databricks.v1+cell": {
     "cellMetadata": {
      "byteLimit": 2048000,
      "rowLimit": 10000
     },
     "inputWidgets": {},
     "nuid": "1581efa7-dc4a-4a71-be7b-d393e484ab01",
     "showTitle": false,
     "title": ""
    }
   },
   "source": [
    "We will create a list named counts_by_day by chaining together RDD methods. "
   ]
  },
  {
   "cell_type": "code",
   "execution_count": 0,
   "metadata": {
    "application/vnd.databricks.v1+cell": {
     "cellMetadata": {
      "byteLimit": 2048000,
      "rowLimit": 10000
     },
     "inputWidgets": {},
     "nuid": "c1a35875-119c-477b-8f9b-37c723ae8fc2",
     "showTitle": false,
     "title": ""
    }
   },
   "outputs": [
    {
     "output_type": "stream",
     "name": "stdout",
     "output_type": "stream",
     "text": [
      "Out[14]: [('01', 33996), ('03', 41388), ('04', 59557), ('05', 31893), ('06', 32420)]"
     ]
    }
   ],
   "source": [
    "counts_by_day = (nasa\n",
    "                 .map(lambda x: (x[1][1:3], 1))\n",
    "                 .reduceByKey(lambda a, b: a + b)\n",
    "                 .sortByKey()\n",
    "                 .collect())\n",
    "\n",
    "counts_by_day[:5]"
   ]
  },
  {
   "cell_type": "markdown",
   "metadata": {
    "application/vnd.databricks.v1+cell": {
     "cellMetadata": {
      "byteLimit": 2048000,
      "rowLimit": 10000
     },
     "inputWidgets": {},
     "nuid": "a64e7bb9-3811-4d90-8b50-d9f535e109a5",
     "showTitle": false,
     "title": ""
    }
   },
   "source": [
    "We will now create a bar chart to display the distribution of requests by the day of the month."
   ]
  },
  {
   "cell_type": "code",
   "execution_count": 0,
   "metadata": {
    "application/vnd.databricks.v1+cell": {
     "cellMetadata": {
      "byteLimit": 2048000,
      "rowLimit": 10000
     },
     "inputWidgets": {},
     "nuid": "e9c00987-e6f2-49b6-94cc-a0986ee134bf",
     "showTitle": false,
     "title": ""
    }
   },
   "outputs": [
    {
     "output_type": "display_data",
     "data": {
      "image/png": "[encoded data removed]"
     },
     "metadata": {
      "application/vnd.databricks.v1+output": {
       "addedWidgets": {},
       "arguments": {},
       "data": "data:image/png;base64,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\n",
       "datasetInfos": [],
       "metadata": {},
       "removedWidgets": [],
       "type": "image"
      }
     },
     "output_type": "display_data"
    }
   ],
   "source": [
    "day_list = [t[0] for t in counts_by_day]\n",
    "count_list = [t[1] for t in counts_by_day]\n",
    "\n",
    "plt.figure(figsize=[10, 4])\n",
    "plt.bar(day_list, count_list, color='lightgreen', edgecolor='black')\n",
    "plt.title(\"Number of Requests by Day (Aug 1995)\")\n",
    "plt.xlabel(\"Day of Month\")\n",
    "plt.ylabel(\"Count\")\n",
    "plt.show()"
   ]
  }
 ],
 "metadata": {
  "application/vnd.databricks.v1+notebook": {
   "dashboards": [],
   "language": "python",
   "notebookMetadata": {
    "pythonIndentUnit": 4
   },
   "notebookName": "Project_1_Boczkaja_Jeffery",
   "widgets": {}
  }
 },
 "nbformat": 4,
 "nbformat_minor": 0
}
