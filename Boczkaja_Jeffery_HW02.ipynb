{
 "cells": [
  {
   "cell_type": "markdown",
   "metadata": {
    "application/vnd.databricks.v1+cell": {
     "cellMetadata": {
      "byteLimit": 2048000,
      "rowLimit": 10000
     },
     "inputWidgets": {},
     "nuid": "8e652a55-d2d4-4116-8396-618fb6c5294c",
     "showTitle": false,
     "title": ""
    }
   },
   "source": [
    "# DSCI 617 - Homework 02\n",
    "**Jeffery Boczkaja**"
   ]
  },
  {
   "cell_type": "code",
   "execution_count": 0,
   "metadata": {
    "application/vnd.databricks.v1+cell": {
     "cellMetadata": {
      "byteLimit": 2048000,
      "rowLimit": 10000
     },
     "inputWidgets": {},
     "nuid": "5de3293b-1b85-41d1-93a7-d4f90f7a6913",
     "showTitle": false,
     "title": ""
    }
   },
   "outputs": [],
   "source": [
    "from pyspark.sql import SparkSession\n",
    "import pandas as pd\n",
    "from string import punctuation"
   ]
  },
  {
   "cell_type": "code",
   "execution_count": 0,
   "metadata": {
    "application/vnd.databricks.v1+cell": {
     "cellMetadata": {
      "byteLimit": 2048000,
      "rowLimit": 10000
     },
     "inputWidgets": {},
     "nuid": "e1d62407-dc34-4b23-a722-9881419d9432",
     "showTitle": false,
     "title": ""
    }
   },
   "outputs": [],
   "source": [
    "spark = SparkSession.builder.getOrCreate()\n",
    "sc = spark.sparkContext"
   ]
  },
  {
   "cell_type": "markdown",
   "metadata": {
    "application/vnd.databricks.v1+cell": {
     "cellMetadata": {
      "byteLimit": 2048000,
      "rowLimit": 10000
     },
     "inputWidgets": {},
     "nuid": "68cb2ffe-955f-4552-8369-38be63f9a51b",
     "showTitle": false,
     "title": ""
    }
   },
   "source": [
    "## Problem 1: Word Count"
   ]
  },
  {
   "cell_type": "code",
   "execution_count": 0,
   "metadata": {
    "application/vnd.databricks.v1+cell": {
     "cellMetadata": {
      "byteLimit": 2048000,
      "rowLimit": 10000
     },
     "inputWidgets": {},
     "nuid": "14377a9b-a008-435f-8bd1-b3fbb010039b",
     "showTitle": false,
     "title": ""
    }
   },
   "outputs": [
    {
     "output_type": "stream",
     "name": "stdout",
     "output_type": "stream",
     "text": [
      "Total Number of Words:       887279\nNumber of Distinct Words:    25362\n"
     ]
    }
   ],
   "source": [
    "ws_lines = sc.textFile(\"/FileStore/tables/shakespeare_complete.txt\")\n",
    "\n",
    "ws_words = (ws_lines\n",
    "           .flatMap(lambda line: line.split(' '))\n",
    "           .flatMap(lambda word: word.split('-'))\n",
    "           .flatMap(lambda word: word.split('_'))\n",
    "           .flatMap(lambda word: word.split('.'))\n",
    "           .flatMap(lambda word: word.split(','))\n",
    "           .flatMap(lambda word: word.split(':'))\n",
    "           .flatMap(lambda word: word.split('|'))\n",
    "           .flatMap(lambda word: word.split('\\t'))\n",
    "           .map(lambda word: word.strip(punctuation).strip('0123456789')\n",
    "                              .replace(\"'\", \"\").lower())\n",
    "           .filter(lambda word: word != '')\n",
    "          )\n",
    "\n",
    "dist_words = ws_words.distinct()\n",
    "print(\"Total Number of Words:      \", ws_words.count())\n",
    "print(\"Number of Distinct Words:   \", dist_words.count())"
   ]
  },
  {
   "cell_type": "code",
   "execution_count": 0,
   "metadata": {
    "application/vnd.databricks.v1+cell": {
     "cellMetadata": {
      "byteLimit": 2048000,
      "rowLimit": 10000
     },
     "inputWidgets": {},
     "nuid": "1667ef2c-057f-4b25-89d1-0013f651f380",
     "showTitle": false,
     "title": ""
    }
   },
   "outputs": [
    {
     "output_type": "stream",
     "name": "stdout",
     "output_type": "stream",
     "text": [
      "and\nwere\ndo\nit\nthe\nchastity\nme\ngood\nto\nof\nstep\nprophesy\nme\nlend\ncity\no\nbut\nthe\nthe\nset\ntaen\nthan\nam\ncatch\nin\nwaste\nno\nyou\no\noratory\nand\nfalse\nfor\nmargaret\nwhose\na\nwill\nthe\nbut\nof\ngods\nyou\nshalt\nholy\ncan\nlegitimate\nsome\ndrum\na\non\nyour\nyou\nexeunt\nhour\ni\nto\npity\nand\ngood\nis\ni\nboth\nas\nit\nby\nwe\na\nthe\nthat\ndo\nromeo\ntheir\nmontagues\ncousin\nthank\nexit\nyou\ngoes\nwill\nlion\nto\nwhat\nor\nbe\nmy\nwhere\nkin\n"
     ]
    }
   ],
   "source": [
    "s_words = ws_words.sample(withReplacement=False, fraction=0.0001).collect()\n",
    "\n",
    "for word in s_words:\n",
    "    print(word)"
   ]
  },
  {
   "cell_type": "markdown",
   "metadata": {
    "application/vnd.databricks.v1+cell": {
     "cellMetadata": {
      "byteLimit": 2048000,
      "rowLimit": 10000
     },
     "inputWidgets": {},
     "nuid": "bb3f6ae8-aaa5-4265-924d-4bbdb68243eb",
     "showTitle": false,
     "title": ""
    }
   },
   "source": [
    "## Problem 2: Longest Words"
   ]
  },
  {
   "cell_type": "code",
   "execution_count": 0,
   "metadata": {
    "application/vnd.databricks.v1+cell": {
     "cellMetadata": {
      "byteLimit": 2048000,
      "rowLimit": 10000
     },
     "inputWidgets": {},
     "nuid": "64c2a82c-fec7-4d06-938f-695dc208920e",
     "showTitle": false,
     "title": ""
    }
   },
   "outputs": [
    {
     "output_type": "stream",
     "name": "stdout",
     "output_type": "stream",
     "text": [
      "Longest word: honorificabilitudinitatibus\n"
     ]
    }
   ],
   "source": [
    "def longer_string(s1: str, s2: str) -> str:\n",
    "    if len(s1) > len(s2) or (len(s1) == len(s2) and s1 > s2):\n",
    "        return s1\n",
    "    else:\n",
    "        return s2\n",
    "\n",
    "test_strings = [(\"Michigan\", \"Indiana\"), (\"Wisconsin\", \"Oklahoma\"), (\"Mississippi\", \"Maine\")]\n",
    "results = [longer_string(s1, s2) for s1, s2 in test_strings]\n",
    "\n",
    "longest_word = dist_words.reduce(longer_string)\n",
    "\n",
    "print(\"Longest word:\", longest_word)"
   ]
  },
  {
   "cell_type": "code",
   "execution_count": 0,
   "metadata": {
    "application/vnd.databricks.v1+cell": {
     "cellMetadata": {
      "byteLimit": 2048000,
      "rowLimit": 10000
     },
     "inputWidgets": {},
     "nuid": "6ad136c0-0d04-4f9a-8af6-4f9f200200c7",
     "showTitle": false,
     "title": ""
    }
   },
   "outputs": [
    {
     "output_type": "stream",
     "name": "stdout",
     "output_type": "stream",
     "text": [
      "The 20 longest words:\nhonorificabilitudinitatibus\nanthropophaginian\nundistinguishable\nindistinguishable\nnorthamptonshire\nsuperserviceable\nincomprehensible\nprognostication\nunreconciliable\ninterrogatories\ngioucestershire\nextraordinarily\nparticularities\npraeclarissimus\nimpossibilities\nmisconstruction\nflibbertigibbet\ncircumscription\ndisproportioned\nuncomprehensive\n"
     ]
    }
   ],
   "source": [
    "longest_words_rdd = dist_words.sortBy(lambda word: -len(word))\n",
    "\n",
    "top_20_longest_words = longest_words_rdd.take(20)\n",
    "\n",
    "print(\"The 20 longest words:\")\n",
    "for word in top_20_longest_words:\n",
    "    print(word)"
   ]
  },
  {
   "cell_type": "markdown",
   "metadata": {
    "application/vnd.databricks.v1+cell": {
     "cellMetadata": {
      "byteLimit": 2048000,
      "rowLimit": 10000
     },
     "inputWidgets": {},
     "nuid": "d4c594f0-e47d-4024-ba32-df7d3fb456f9",
     "showTitle": false,
     "title": ""
    }
   },
   "source": [
    "## Problem 3: Word Frequency"
   ]
  },
  {
   "cell_type": "code",
   "execution_count": 0,
   "metadata": {
    "application/vnd.databricks.v1+cell": {
     "cellMetadata": {
      "byteLimit": 2048000,
      "rowLimit": 10000
     },
     "inputWidgets": {},
     "nuid": "e083921f-b825-4df8-adae-b489c73cf71c",
     "showTitle": false,
     "title": ""
    }
   },
   "outputs": [
    {
     "output_type": "display_data",
     "data": {
      "text/html": [
       "<div>\n",
       "<style scoped>\n",
       "    .dataframe tbody tr th:only-of-type {\n",
       "        vertical-align: middle;\n",
       "    }\n",
       "\n",
       "    .dataframe tbody tr th {\n",
       "        vertical-align: top;\n",
       "    }\n",
       "\n",
       "    .dataframe thead th {\n",
       "        text-align: right;\n",
       "    }\n",
       "</style>\n",
       "<table border=\"1\" class=\"dataframe\">\n",
       "  <thead>\n",
       "    <tr style=\"text-align: right;\">\n",
       "      <th></th>\n",
       "      <th>Word</th>\n",
       "      <th>Count</th>\n",
       "    </tr>\n",
       "  </thead>\n",
       "  <tbody>\n",
       "    <tr>\n",
       "      <th>0</th>\n",
       "      <td>the</td>\n",
       "      <td>27379</td>\n",
       "    </tr>\n",
       "    <tr>\n",
       "      <th>1</th>\n",
       "      <td>and</td>\n",
       "      <td>26082</td>\n",
       "    </tr>\n",
       "    <tr>\n",
       "      <th>2</th>\n",
       "      <td>i</td>\n",
       "      <td>20717</td>\n",
       "    </tr>\n",
       "    <tr>\n",
       "      <th>3</th>\n",
       "      <td>to</td>\n",
       "      <td>19661</td>\n",
       "    </tr>\n",
       "    <tr>\n",
       "      <th>4</th>\n",
       "      <td>of</td>\n",
       "      <td>17474</td>\n",
       "    </tr>\n",
       "    <tr>\n",
       "      <th>5</th>\n",
       "      <td>a</td>\n",
       "      <td>14723</td>\n",
       "    </tr>\n",
       "    <tr>\n",
       "      <th>6</th>\n",
       "      <td>you</td>\n",
       "      <td>13630</td>\n",
       "    </tr>\n",
       "    <tr>\n",
       "      <th>7</th>\n",
       "      <td>my</td>\n",
       "      <td>12489</td>\n",
       "    </tr>\n",
       "    <tr>\n",
       "      <th>8</th>\n",
       "      <td>in</td>\n",
       "      <td>10996</td>\n",
       "    </tr>\n",
       "    <tr>\n",
       "      <th>9</th>\n",
       "      <td>that</td>\n",
       "      <td>10915</td>\n",
       "    </tr>\n",
       "    <tr>\n",
       "      <th>10</th>\n",
       "      <td>is</td>\n",
       "      <td>9137</td>\n",
       "    </tr>\n",
       "    <tr>\n",
       "      <th>11</th>\n",
       "      <td>not</td>\n",
       "      <td>8512</td>\n",
       "    </tr>\n",
       "    <tr>\n",
       "      <th>12</th>\n",
       "      <td>with</td>\n",
       "      <td>7778</td>\n",
       "    </tr>\n",
       "    <tr>\n",
       "      <th>13</th>\n",
       "      <td>me</td>\n",
       "      <td>7776</td>\n",
       "    </tr>\n",
       "    <tr>\n",
       "      <th>14</th>\n",
       "      <td>it</td>\n",
       "      <td>7692</td>\n",
       "    </tr>\n",
       "    <tr>\n",
       "      <th>15</th>\n",
       "      <td>for</td>\n",
       "      <td>7578</td>\n",
       "    </tr>\n",
       "    <tr>\n",
       "      <th>16</th>\n",
       "      <td>be</td>\n",
       "      <td>6867</td>\n",
       "    </tr>\n",
       "    <tr>\n",
       "      <th>17</th>\n",
       "      <td>his</td>\n",
       "      <td>6859</td>\n",
       "    </tr>\n",
       "    <tr>\n",
       "      <th>18</th>\n",
       "      <td>your</td>\n",
       "      <td>6658</td>\n",
       "    </tr>\n",
       "    <tr>\n",
       "      <th>19</th>\n",
       "      <td>this</td>\n",
       "      <td>6606</td>\n",
       "    </tr>\n",
       "  </tbody>\n",
       "</table>\n",
       "</div>"
      ]
     },
     "metadata": {
      "application/vnd.databricks.v1+output": {
       "addedWidgets": {},
       "arguments": {},
       "data": "<div>\n<style scoped>\n    .dataframe tbody tr th:only-of-type {\n        vertical-align: middle;\n    }\n\n    .dataframe tbody tr th {\n        vertical-align: top;\n    }\n\n    .dataframe thead th {\n        text-align: right;\n    }\n</style>\n<table border=\"1\" class=\"dataframe\">\n  <thead>\n    <tr style=\"text-align: right;\">\n      <th></th>\n      <th>Word</th>\n      <th>Count</th>\n    </tr>\n  </thead>\n  <tbody>\n    <tr>\n      <th>0</th>\n      <td>the</td>\n      <td>27379</td>\n    </tr>\n    <tr>\n      <th>1</th>\n      <td>and</td>\n      <td>26082</td>\n    </tr>\n    <tr>\n      <th>2</th>\n      <td>i</td>\n      <td>20717</td>\n    </tr>\n    <tr>\n      <th>3</th>\n      <td>to</td>\n      <td>19661</td>\n    </tr>\n    <tr>\n      <th>4</th>\n      <td>of</td>\n      <td>17474</td>\n    </tr>\n    <tr>\n      <th>5</th>\n      <td>a</td>\n      <td>14723</td>\n    </tr>\n    <tr>\n      <th>6</th>\n      <td>you</td>\n      <td>13630</td>\n    </tr>\n    <tr>\n      <th>7</th>\n      <td>my</td>\n      <td>12489</td>\n    </tr>\n    <tr>\n      <th>8</th>\n      <td>in</td>\n      <td>10996</td>\n    </tr>\n    <tr>\n      <th>9</th>\n      <td>that</td>\n      <td>10915</td>\n    </tr>\n    <tr>\n      <th>10</th>\n      <td>is</td>\n      <td>9137</td>\n    </tr>\n    <tr>\n      <th>11</th>\n      <td>not</td>\n      <td>8512</td>\n    </tr>\n    <tr>\n      <th>12</th>\n      <td>with</td>\n      <td>7778</td>\n    </tr>\n    <tr>\n      <th>13</th>\n      <td>me</td>\n      <td>7776</td>\n    </tr>\n    <tr>\n      <th>14</th>\n      <td>it</td>\n      <td>7692</td>\n    </tr>\n    <tr>\n      <th>15</th>\n      <td>for</td>\n      <td>7578</td>\n    </tr>\n    <tr>\n      <th>16</th>\n      <td>be</td>\n      <td>6867</td>\n    </tr>\n    <tr>\n      <th>17</th>\n      <td>his</td>\n      <td>6859</td>\n    </tr>\n    <tr>\n      <th>18</th>\n      <td>your</td>\n      <td>6658</td>\n    </tr>\n    <tr>\n      <th>19</th>\n      <td>this</td>\n      <td>6606</td>\n    </tr>\n  </tbody>\n</table>\n</div>",
       "datasetInfos": [],
       "metadata": {},
       "removedWidgets": [],
       "textData": null,
       "type": "htmlSandbox"
      }
     },
     "output_type": "display_data"
    }
   ],
   "source": [
    "pairs = ws_words.map(lambda word: (word, 1))\n",
    "word_counts = pairs.reduceByKey(lambda a, b: a + b)\n",
    "word_counts = word_counts.sortBy(lambda pair: pair[1], ascending=False)\n",
    "top_20_word_counts = word_counts.take(20)\n",
    "df_word_counts = pd.DataFrame(top_20_word_counts, columns=[\"Word\", \"Count\"])\n",
    "df_word_counts"
   ]
  },
  {
   "cell_type": "markdown",
   "metadata": {
    "application/vnd.databricks.v1+cell": {
     "cellMetadata": {
      "byteLimit": 2048000,
      "rowLimit": 10000
     },
     "inputWidgets": {},
     "nuid": "04eccb86-98a8-4219-838b-4a35224aa99a",
     "showTitle": false,
     "title": ""
    }
   },
   "source": [
    "## Problem 4: Removing Stop Words"
   ]
  },
  {
   "cell_type": "code",
   "execution_count": 0,
   "metadata": {
    "application/vnd.databricks.v1+cell": {
     "cellMetadata": {
      "byteLimit": 2048000,
      "rowLimit": 10000
     },
     "inputWidgets": {},
     "nuid": "a2d1b804-0eb6-4b2c-b0c5-37a571f5baf0",
     "showTitle": false,
     "title": ""
    }
   },
   "outputs": [
    {
     "output_type": "stream",
     "name": "stdout",
     "output_type": "stream",
     "text": [
      "668\n['act', 'am', 'become', 'cause', 'come', 'couldnt', 'd', 'end', 'fifth', 'former', 'furthermore', 'importance', 'invention', 'ltd', 'more', 'mrs', 'near', 'no', 'normally', 'obtained', 'particularly', 'plus', 'q', 'rd', 'seem', 'someone', 'still', 'thru', 'up', 'various', 'wasnt', 'whereafter', 'whomever', 'would', 'z']\n"
     ]
    }
   ],
   "source": [
    "sw_rdd = sc.textFile(\"/FileStore/tables/stopwords.txt\")\n",
    "sw_count = sw_rdd.count()\n",
    "print(sw_count)\n",
    "sampled_sw = sw_rdd.sample(withReplacement=False, fraction=0.05).collect()\n",
    "print(sampled_sw)\n",
    "sw = sw_rdd.collect()"
   ]
  },
  {
   "cell_type": "code",
   "execution_count": 0,
   "metadata": {
    "application/vnd.databricks.v1+cell": {
     "cellMetadata": {
      "byteLimit": 2048000,
      "rowLimit": 10000
     },
     "inputWidgets": {},
     "nuid": "72a06f72-b733-4d71-875d-8929a44e3cf6",
     "showTitle": false,
     "title": ""
    }
   },
   "outputs": [
    {
     "output_type": "stream",
     "name": "stdout",
     "output_type": "stream",
     "text": [
      "Distinct Non-SW:  24840\n"
     ]
    }
   ],
   "source": [
    "ws_words_f = ws_words.filter(lambda word: word not in sw)\n",
    "dist_words_f = ws_words_f.distinct()\n",
    "print(\"Distinct Non-SW: \", dist_words_f.count())"
   ]
  },
  {
   "cell_type": "code",
   "execution_count": 0,
   "metadata": {
    "application/vnd.databricks.v1+cell": {
     "cellMetadata": {
      "byteLimit": 2048000,
      "rowLimit": 10000
     },
     "inputWidgets": {},
     "nuid": "63293ac6-f84f-46c2-b053-fcffdf652e9d",
     "showTitle": false,
     "title": ""
    }
   },
   "outputs": [
    {
     "output_type": "display_data",
     "data": {
      "text/html": [
       "<div>\n",
       "<style scoped>\n",
       "    .dataframe tbody tr th:only-of-type {\n",
       "        vertical-align: middle;\n",
       "    }\n",
       "\n",
       "    .dataframe tbody tr th {\n",
       "        vertical-align: top;\n",
       "    }\n",
       "\n",
       "    .dataframe thead th {\n",
       "        text-align: right;\n",
       "    }\n",
       "</style>\n",
       "<table border=\"1\" class=\"dataframe\">\n",
       "  <thead>\n",
       "    <tr style=\"text-align: right;\">\n",
       "      <th></th>\n",
       "      <th>Word</th>\n",
       "      <th>Count</th>\n",
       "    </tr>\n",
       "  </thead>\n",
       "  <tbody>\n",
       "    <tr>\n",
       "      <th>0</th>\n",
       "      <td>will</td>\n",
       "      <td>4977</td>\n",
       "    </tr>\n",
       "    <tr>\n",
       "      <th>1</th>\n",
       "      <td>thy</td>\n",
       "      <td>4034</td>\n",
       "    </tr>\n",
       "    <tr>\n",
       "      <th>2</th>\n",
       "      <td>thee</td>\n",
       "      <td>3180</td>\n",
       "    </tr>\n",
       "    <tr>\n",
       "      <th>3</th>\n",
       "      <td>lord</td>\n",
       "      <td>3062</td>\n",
       "    </tr>\n",
       "    <tr>\n",
       "      <th>4</th>\n",
       "      <td>king</td>\n",
       "      <td>2871</td>\n",
       "    </tr>\n",
       "    <tr>\n",
       "      <th>5</th>\n",
       "      <td>good</td>\n",
       "      <td>2834</td>\n",
       "    </tr>\n",
       "    <tr>\n",
       "      <th>6</th>\n",
       "      <td>sir</td>\n",
       "      <td>2763</td>\n",
       "    </tr>\n",
       "    <tr>\n",
       "      <th>7</th>\n",
       "      <td>well</td>\n",
       "      <td>2553</td>\n",
       "    </tr>\n",
       "    <tr>\n",
       "      <th>8</th>\n",
       "      <td>enter</td>\n",
       "      <td>2350</td>\n",
       "    </tr>\n",
       "    <tr>\n",
       "      <th>9</th>\n",
       "      <td>love</td>\n",
       "      <td>2109</td>\n",
       "    </tr>\n",
       "    <tr>\n",
       "      <th>10</th>\n",
       "      <td>ill</td>\n",
       "      <td>2024</td>\n",
       "    </tr>\n",
       "    <tr>\n",
       "      <th>11</th>\n",
       "      <td>hath</td>\n",
       "      <td>1942</td>\n",
       "    </tr>\n",
       "    <tr>\n",
       "      <th>12</th>\n",
       "      <td>man</td>\n",
       "      <td>1876</td>\n",
       "    </tr>\n",
       "    <tr>\n",
       "      <th>13</th>\n",
       "      <td>tis</td>\n",
       "      <td>1408</td>\n",
       "    </tr>\n",
       "    <tr>\n",
       "      <th>14</th>\n",
       "      <td>speak</td>\n",
       "      <td>1169</td>\n",
       "    </tr>\n",
       "    <tr>\n",
       "      <th>15</th>\n",
       "      <td>mine</td>\n",
       "      <td>1165</td>\n",
       "    </tr>\n",
       "    <tr>\n",
       "      <th>16</th>\n",
       "      <td>time</td>\n",
       "      <td>1074</td>\n",
       "    </tr>\n",
       "    <tr>\n",
       "      <th>17</th>\n",
       "      <td>duke</td>\n",
       "      <td>1071</td>\n",
       "    </tr>\n",
       "    <tr>\n",
       "      <th>18</th>\n",
       "      <td>exeunt</td>\n",
       "      <td>1035</td>\n",
       "    </tr>\n",
       "    <tr>\n",
       "      <th>19</th>\n",
       "      <td>heart</td>\n",
       "      <td>1012</td>\n",
       "    </tr>\n",
       "  </tbody>\n",
       "</table>\n",
       "</div>"
      ]
     },
     "metadata": {
      "application/vnd.databricks.v1+output": {
       "addedWidgets": {},
       "arguments": {},
       "data": "<div>\n<style scoped>\n    .dataframe tbody tr th:only-of-type {\n        vertical-align: middle;\n    }\n\n    .dataframe tbody tr th {\n        vertical-align: top;\n    }\n\n    .dataframe thead th {\n        text-align: right;\n    }\n</style>\n<table border=\"1\" class=\"dataframe\">\n  <thead>\n    <tr style=\"text-align: right;\">\n      <th></th>\n      <th>Word</th>\n      <th>Count</th>\n    </tr>\n  </thead>\n  <tbody>\n    <tr>\n      <th>0</th>\n      <td>will</td>\n      <td>4977</td>\n    </tr>\n    <tr>\n      <th>1</th>\n      <td>thy</td>\n      <td>4034</td>\n    </tr>\n    <tr>\n      <th>2</th>\n      <td>thee</td>\n      <td>3180</td>\n    </tr>\n    <tr>\n      <th>3</th>\n      <td>lord</td>\n      <td>3062</td>\n    </tr>\n    <tr>\n      <th>4</th>\n      <td>king</td>\n      <td>2871</td>\n    </tr>\n    <tr>\n      <th>5</th>\n      <td>good</td>\n      <td>2834</td>\n    </tr>\n    <tr>\n      <th>6</th>\n      <td>sir</td>\n      <td>2763</td>\n    </tr>\n    <tr>\n      <th>7</th>\n      <td>well</td>\n      <td>2553</td>\n    </tr>\n    <tr>\n      <th>8</th>\n      <td>enter</td>\n      <td>2350</td>\n    </tr>\n    <tr>\n      <th>9</th>\n      <td>love</td>\n      <td>2109</td>\n    </tr>\n    <tr>\n      <th>10</th>\n      <td>ill</td>\n      <td>2024</td>\n    </tr>\n    <tr>\n      <th>11</th>\n      <td>hath</td>\n      <td>1942</td>\n    </tr>\n    <tr>\n      <th>12</th>\n      <td>man</td>\n      <td>1876</td>\n    </tr>\n    <tr>\n      <th>13</th>\n      <td>tis</td>\n      <td>1408</td>\n    </tr>\n    <tr>\n      <th>14</th>\n      <td>speak</td>\n      <td>1169</td>\n    </tr>\n    <tr>\n      <th>15</th>\n      <td>mine</td>\n      <td>1165</td>\n    </tr>\n    <tr>\n      <th>16</th>\n      <td>time</td>\n      <td>1074</td>\n    </tr>\n    <tr>\n      <th>17</th>\n      <td>duke</td>\n      <td>1071</td>\n    </tr>\n    <tr>\n      <th>18</th>\n      <td>exeunt</td>\n      <td>1035</td>\n    </tr>\n    <tr>\n      <th>19</th>\n      <td>heart</td>\n      <td>1012</td>\n    </tr>\n  </tbody>\n</table>\n</div>",
       "datasetInfos": [],
       "metadata": {},
       "removedWidgets": [],
       "textData": null,
       "type": "htmlSandbox"
      }
     },
     "output_type": "display_data"
    }
   ],
   "source": [
    "pairs = ws_words_f.map(lambda word: (word, 1))\n",
    "word_counts = pairs.reduceByKey(lambda a, b: a + b)\n",
    "word_counts = word_counts.sortBy(lambda pair: pair[1], ascending=False)\n",
    "top_20_word_counts = word_counts.take(20)\n",
    "df_word_counts = pd.DataFrame(top_20_word_counts, columns=[\"Word\", \"Count\"])\n",
    "df_word_counts"
   ]
  },
  {
   "cell_type": "markdown",
   "metadata": {
    "application/vnd.databricks.v1+cell": {
     "cellMetadata": {
      "byteLimit": 2048000,
      "rowLimit": 10000
     },
     "inputWidgets": {},
     "nuid": "bb6e4bab-2bec-4ba3-8ee4-6c4f5dc48de4",
     "showTitle": false,
     "title": ""
    }
   },
   "source": [
    "## Problem 5: Diamonds Dataset\n"
   ]
  },
  {
   "cell_type": "code",
   "execution_count": 0,
   "metadata": {
    "application/vnd.databricks.v1+cell": {
     "cellMetadata": {
      "byteLimit": 2048000,
      "rowLimit": 10000
     },
     "inputWidgets": {},
     "nuid": "23c98c17-a6f0-4cac-9f76-639103d2052e",
     "showTitle": false,
     "title": ""
    }
   },
   "outputs": [
    {
     "output_type": "stream",
     "name": "stdout",
     "output_type": "stream",
     "text": [
      "53941\n"
     ]
    }
   ],
   "source": [
    "diamonds_raw = sc.textFile(\"/FileStore/tables/diamonds.txt\")\n",
    "print(diamonds_raw.count())"
   ]
  },
  {
   "cell_type": "code",
   "execution_count": 0,
   "metadata": {
    "application/vnd.databricks.v1+cell": {
     "cellMetadata": {
      "byteLimit": 2048000,
      "rowLimit": 10000
     },
     "inputWidgets": {},
     "nuid": "838ab4e0-9c8c-4257-a901-8a84947211be",
     "showTitle": false,
     "title": ""
    }
   },
   "outputs": [
    {
     "output_type": "stream",
     "name": "stdout",
     "output_type": "stream",
     "text": [
      "carat\tcut\tcolor\tclarity\tdepth\ttable\tprice\tx\ty\tz\n0.23\tIdeal\tE\tSI2\t61.5\t55\t326\t3.95\t3.98\t2.43\n0.21\tPremium\tE\tSI1\t59.8\t61\t326\t3.89\t3.84\t2.31\n0.23\tGood\tE\tVS1\t56.9\t65\t327\t4.05\t4.07\t2.31\n0.29\tPremium\tI\tVS2\t62.4\t58\t334\t4.2\t4.23\t2.63\n"
     ]
    }
   ],
   "source": [
    "first_five_elements = diamonds_raw.take(5)\n",
    "\n",
    "for element in first_five_elements:\n",
    "    print(element)"
   ]
  },
  {
   "cell_type": "code",
   "execution_count": 0,
   "metadata": {
    "application/vnd.databricks.v1+cell": {
     "cellMetadata": {
      "byteLimit": 2048000,
      "rowLimit": 10000
     },
     "inputWidgets": {},
     "nuid": "7ed3415a-5010-4e10-8452-4e377c36b0c2",
     "showTitle": false,
     "title": ""
    }
   },
   "outputs": [
    {
     "output_type": "stream",
     "name": "stdout",
     "output_type": "stream",
     "text": [
      "[0.23, 'Ideal', 'E', 'SI2', 61.5, 55.0, 326, 3.95, 3.98, 2.43]\n[0.21, 'Premium', 'E', 'SI1', 59.8, 61.0, 326, 3.89, 3.84, 2.31]\n[0.23, 'Good', 'E', 'VS1', 56.9, 65.0, 327, 4.05, 4.07, 2.31]\n[0.29, 'Premium', 'I', 'VS2', 62.4, 58.0, 334, 4.2, 4.23, 2.63]\n[0.31, 'Good', 'J', 'SI2', 63.3, 58.0, 335, 4.34, 4.35, 2.75]\n"
     ]
    }
   ],
   "source": [
    "def process_row(row):\n",
    "    tokens = row.split('\\t')\n",
    "\n",
    "    processed_tokens = [\n",
    "        float(tokens[0]),  # carat\n",
    "        str(tokens[1]),    # cut\n",
    "        str(tokens[2]),    # color\n",
    "        str(tokens[3]),    # clarity\n",
    "        float(tokens[4]),  # depth\n",
    "        float(tokens[5]),  # table\n",
    "        int(tokens[6]),    # price\n",
    "        float(tokens[7]),  # x\n",
    "        float(tokens[8]),  # y\n",
    "        float(tokens[9])   # z\n",
    "    ]\n",
    "    \n",
    "    return processed_tokens\n",
    "\n",
    "header = diamonds_raw.first()\n",
    "diamonds_without_header = diamonds_raw.filter(lambda row: row != header)\n",
    "diamonds = diamonds_without_header.map(process_row)\n",
    "first_five_diamonds = diamonds.take(5)\n",
    "for diamond in first_five_diamonds:\n",
    "    print(diamond)"
   ]
  },
  {
   "cell_type": "markdown",
   "metadata": {
    "application/vnd.databricks.v1+cell": {
     "cellMetadata": {
      "byteLimit": 2048000,
      "rowLimit": 10000
     },
     "inputWidgets": {},
     "nuid": "c6d278ac-4f6b-4d30-b4cf-f627af34dcae",
     "showTitle": false,
     "title": ""
    }
   },
   "source": [
    "## Problem 6: Grouped Means"
   ]
  },
  {
   "cell_type": "code",
   "execution_count": 0,
   "metadata": {
    "application/vnd.databricks.v1+cell": {
     "cellMetadata": {
      "byteLimit": 2048000,
      "rowLimit": 10000
     },
     "inputWidgets": {},
     "nuid": "d9b2fb28-0fa9-48b9-b07c-350405e26893",
     "showTitle": false,
     "title": ""
    }
   },
   "outputs": [
    {
     "output_type": "display_data",
     "data": {
      "text/html": [
       "<div>\n",
       "<style scoped>\n",
       "    .dataframe tbody tr th:only-of-type {\n",
       "        vertical-align: middle;\n",
       "    }\n",
       "\n",
       "    .dataframe tbody tr th {\n",
       "        vertical-align: top;\n",
       "    }\n",
       "\n",
       "    .dataframe thead th {\n",
       "        text-align: right;\n",
       "    }\n",
       "</style>\n",
       "<table border=\"1\" class=\"dataframe\">\n",
       "  <thead>\n",
       "    <tr style=\"text-align: right;\">\n",
       "      <th></th>\n",
       "      <th>Cut</th>\n",
       "      <th>Count</th>\n",
       "      <th>Mean_Carat</th>\n",
       "      <th>Mean_Price</th>\n",
       "    </tr>\n",
       "  </thead>\n",
       "  <tbody>\n",
       "    <tr>\n",
       "      <th>0</th>\n",
       "      <td>Premium</td>\n",
       "      <td>13791</td>\n",
       "      <td>0.89</td>\n",
       "      <td>4584.26</td>\n",
       "    </tr>\n",
       "    <tr>\n",
       "      <th>1</th>\n",
       "      <td>Good</td>\n",
       "      <td>4906</td>\n",
       "      <td>0.85</td>\n",
       "      <td>3928.86</td>\n",
       "    </tr>\n",
       "    <tr>\n",
       "      <th>2</th>\n",
       "      <td>Very Good</td>\n",
       "      <td>12082</td>\n",
       "      <td>0.81</td>\n",
       "      <td>3981.76</td>\n",
       "    </tr>\n",
       "    <tr>\n",
       "      <th>3</th>\n",
       "      <td>Fair</td>\n",
       "      <td>1610</td>\n",
       "      <td>1.05</td>\n",
       "      <td>4358.76</td>\n",
       "    </tr>\n",
       "    <tr>\n",
       "      <th>4</th>\n",
       "      <td>Ideal</td>\n",
       "      <td>21551</td>\n",
       "      <td>0.70</td>\n",
       "      <td>3457.54</td>\n",
       "    </tr>\n",
       "  </tbody>\n",
       "</table>\n",
       "</div>"
      ]
     },
     "metadata": {
      "application/vnd.databricks.v1+output": {
       "addedWidgets": {},
       "arguments": {},
       "data": "<div>\n<style scoped>\n    .dataframe tbody tr th:only-of-type {\n        vertical-align: middle;\n    }\n\n    .dataframe tbody tr th {\n        vertical-align: top;\n    }\n\n    .dataframe thead th {\n        text-align: right;\n    }\n</style>\n<table border=\"1\" class=\"dataframe\">\n  <thead>\n    <tr style=\"text-align: right;\">\n      <th></th>\n      <th>Cut</th>\n      <th>Count</th>\n      <th>Mean_Carat</th>\n      <th>Mean_Price</th>\n    </tr>\n  </thead>\n  <tbody>\n    <tr>\n      <th>0</th>\n      <td>Premium</td>\n      <td>13791</td>\n      <td>0.89</td>\n      <td>4584.26</td>\n    </tr>\n    <tr>\n      <th>1</th>\n      <td>Good</td>\n      <td>4906</td>\n      <td>0.85</td>\n      <td>3928.86</td>\n    </tr>\n    <tr>\n      <th>2</th>\n      <td>Very Good</td>\n      <td>12082</td>\n      <td>0.81</td>\n      <td>3981.76</td>\n    </tr>\n    <tr>\n      <th>3</th>\n      <td>Fair</td>\n      <td>1610</td>\n      <td>1.05</td>\n      <td>4358.76</td>\n    </tr>\n    <tr>\n      <th>4</th>\n      <td>Ideal</td>\n      <td>21551</td>\n      <td>0.70</td>\n      <td>3457.54</td>\n    </tr>\n  </tbody>\n</table>\n</div>",
       "datasetInfos": [],
       "metadata": {},
       "removedWidgets": [],
       "textData": null,
       "type": "htmlSandbox"
      }
     },
     "output_type": "display_data"
    }
   ],
   "source": [
    "cut_summary = (diamonds\n",
    "               .map(lambda x: (x[1], (x[0], x[6], 1)))\n",
    "               .reduceByKey(lambda a, b: (a[0] + b[0], a[1] + b[1], a[2] + b[2]))\n",
    "               .map(lambda x: (x[0], x[1][2], round(x[1][0] / x[1][2], 2), round(x[1][1] / x[1][2], 2)))\n",
    "               .collect())\n",
    "               \n",
    "cut_df = pd.DataFrame(cut_summary, columns=[\"Cut\", \"Count\", \"Mean_Carat\", \"Mean_Price\"])\n",
    "cut_df"
   ]
  }
 ],
 "metadata": {
  "application/vnd.databricks.v1+notebook": {
   "dashboards": [],
   "language": "python",
   "notebookMetadata": {
    "pythonIndentUnit": 4
   },
   "notebookName": "Boczkaja_Jeffery_HW02",
   "widgets": {}
  }
 },
 "nbformat": 4,
 "nbformat_minor": 0
}
