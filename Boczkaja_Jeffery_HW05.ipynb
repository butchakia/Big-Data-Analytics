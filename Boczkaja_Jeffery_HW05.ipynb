{
 "cells": [
  {
   "cell_type": "markdown",
   "metadata": {
    "application/vnd.databricks.v1+cell": {
     "cellMetadata": {
      "byteLimit": 2048000,
      "rowLimit": 10000
     },
     "inputWidgets": {},
     "nuid": "00e2e348-0533-450e-9341-6d2f1fbc0c35",
     "showTitle": false,
     "title": ""
    }
   },
   "source": [
    "# DSCI 617 - Homework 4\n",
    "**Jeffery Boczkaja**"
   ]
  },
  {
   "cell_type": "markdown",
   "metadata": {
    "application/vnd.databricks.v1+cell": {
     "cellMetadata": {
      "byteLimit": 2048000,
      "rowLimit": 10000
     },
     "inputWidgets": {},
     "nuid": "951332e2-395f-4307-a0b2-20a10d77d964",
     "showTitle": false,
     "title": ""
    }
   },
   "source": [
    "## Problem 1: Sparse Vector Respresentation"
   ]
  },
  {
   "cell_type": "markdown",
   "metadata": {
    "application/vnd.databricks.v1+cell": {
     "cellMetadata": {
      "byteLimit": 2048000,
      "rowLimit": 10000
     },
     "inputWidgets": {},
     "nuid": "493bebfb-ad4a-46e3-8792-3f1e1d839661",
     "showTitle": false,
     "title": ""
    }
   },
   "source": [
    "`[8, [0, 3, 4], [1, 1, 1]]`\n",
    "`[10, [2, 4, 8], [4, 7, 2]]`\n",
    "`[10, [2, 8], [1, 1]]`\n",
    "`[3, [0, 1, 2], [4, 1, 8]]`\n",
    "`[6, [], []]`"
   ]
  },
  {
   "cell_type": "markdown",
   "metadata": {
    "application/vnd.databricks.v1+cell": {
     "cellMetadata": {
      "byteLimit": 2048000,
      "rowLimit": 10000
     },
     "inputWidgets": {},
     "nuid": "276de161-343e-46d1-bc90-64d48894a4b5",
     "showTitle": false,
     "title": ""
    }
   },
   "source": [
    "`[0, 0, 1, 0, 0, 3, 0, 9]`\n",
    "`[0, 0, 0, 0]`\n",
    "`[0, 2, 3, 1]`\n",
    "`[0, 1, 0, 0, 0, 1, 0, 0]`\n",
    "`[0, 0, 0, 0, 2, 0]`"
   ]
  },
  {
   "cell_type": "markdown",
   "metadata": {
    "application/vnd.databricks.v1+cell": {
     "cellMetadata": {
      "byteLimit": 2048000,
      "rowLimit": 10000
     },
     "inputWidgets": {},
     "nuid": "6532556f-b812-4322-8992-20621299b395",
     "showTitle": false,
     "title": ""
    }
   },
   "source": [
    "## Problem 2: One-Hot Encoding"
   ]
  },
  {
   "cell_type": "markdown",
   "metadata": {
    "application/vnd.databricks.v1+cell": {
     "cellMetadata": {
      "byteLimit": 2048000,
      "rowLimit": 10000
     },
     "inputWidgets": {},
     "nuid": "e62e901b-5d9f-4810-b09b-b043997868da",
     "showTitle": false,
     "title": ""
    }
   },
   "source": [
    "<pre>\n",
    "+-----+--------+--------------+\n",
    "|Group|Group_ix|     Group_vec|\n",
    "+-----+--------+--------------+\n",
    "|    C|       1|(8, [1], [1]) |\n",
    "|    E|       2|(8, [2], [1]) |\n",
    "|    G|       4|(8, [4], [1]) |\n",
    "|    F|       0|(8, [0], [1]) |\n",
    "|    A|       6|(8, [6], [1]) |\n",
    "|    D|       7|(8, [7], [1]) |\n",
    "+-----+--------+--------------+\n",
    "</pre>\n"
   ]
  },
  {
   "cell_type": "markdown",
   "metadata": {
    "application/vnd.databricks.v1+cell": {
     "cellMetadata": {
      "byteLimit": 2048000,
      "rowLimit": 10000
     },
     "inputWidgets": {},
     "nuid": "e50f7f33-4eb1-4f8a-a00a-db806e3cab12",
     "showTitle": false,
     "title": ""
    }
   },
   "source": [
    "## Problem 3: Vector Assembler (Part 1)"
   ]
  },
  {
   "cell_type": "markdown",
   "metadata": {
    "application/vnd.databricks.v1+cell": {
     "cellMetadata": {
      "byteLimit": 2048000,
      "rowLimit": 10000
     },
     "inputWidgets": {},
     "nuid": "235d5428-b0d5-497c-a9a8-13d51c554cc4",
     "showTitle": false,
     "title": ""
    }
   },
   "source": [
    "<pre>\n",
    "+---+---+---+--------------------+\n",
    "| c1| c2| c3| features           |\n",
    "+---+---+---+--------------------+\n",
    "|  3|  B|  Y|(7, [0, 5], [1, 1]) |\n",
    "|  6|  C|  X|(7, [3, 4], [1, 1]) |\n",
    "|  2|  D|  X|(7, [2, 4], [1, 1]) |\n",
    "|  5|  A|  Y|(7, [1, 5], [1, 1]) |\n",
    "|  1|  A|  Z|(7, [1], [1])       |\n",
    "+---+---+---+--------------------+\n",
    "</pre>"
   ]
  },
  {
   "cell_type": "markdown",
   "metadata": {
    "application/vnd.databricks.v1+cell": {
     "cellMetadata": {
      "byteLimit": 2048000,
      "rowLimit": 10000
     },
     "inputWidgets": {},
     "nuid": "28a3adeb-bdb6-455a-b748-ea9b4b254fae",
     "showTitle": false,
     "title": ""
    }
   },
   "source": [
    "## Problem 4: Vector Assembler (Part 2)"
   ]
  },
  {
   "cell_type": "markdown",
   "metadata": {
    "application/vnd.databricks.v1+cell": {
     "cellMetadata": {
      "byteLimit": 2048000,
      "rowLimit": 10000
     },
     "inputWidgets": {},
     "nuid": "b604e153-d712-4c44-8bb4-9cfb677a6fb5",
     "showTitle": false,
     "title": ""
    }
   },
   "source": [
    "<pre>\n",
    "+---+---+---+-------------------+\n",
    "| c1| c2| c3| features          |\n",
    "+---+---+---+-------------------+\n",
    "| 1 | D | Z |(8,[0,2,6],[1,1,1])|\n",
    "| 4 | C | Y |(8,[0,3,7],[4,1,1])|\n",
    "| 5 | B | Z |(8,[0,1,6],[5,1,1])|\n",
    "| 7 | A | X |(8,[0,4,5],[7,1,1])|\n",
    "| 1 | A | Y |(8,[0,4,7],[1,1,1])|\n",
    "+---+---+---+-------------------+\n",
    "</pre>"
   ]
  }
 ],
 "metadata": {
  "application/vnd.databricks.v1+notebook": {
   "dashboards": [],
   "language": "python",
   "notebookMetadata": {
    "pythonIndentUnit": 4
   },
   "notebookName": "Boczkaja_Jeffery_HW05",
   "widgets": {}
  }
 },
 "nbformat": 4,
 "nbformat_minor": 0
}
